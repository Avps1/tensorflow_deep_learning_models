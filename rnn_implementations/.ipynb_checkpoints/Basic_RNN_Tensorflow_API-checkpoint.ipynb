{
 "cells": [
  {
   "cell_type": "markdown",
   "metadata": {},
   "source": [
    "# Basic RNN using the TensorFlow RNN API\n",
    "\n",
    "In a next step we modify our model to use the functionalities provided by TensorFlow. \n"
   ]
  },
  {
   "cell_type": "code",
   "execution_count": 1,
   "metadata": {
    "collapsed": false
   },
   "outputs": [],
   "source": [
    "% matplotlib inline\n",
    "import tensorflow as tf\n",
    "import numpy as np\n",
    "import matplotlib.pyplot as plt\n",
    "import seaborn as sns"
   ]
  },
  {
   "cell_type": "code",
   "execution_count": 2,
   "metadata": {
    "collapsed": false
   },
   "outputs": [],
   "source": [
    "# Global configuration parameters\n",
    "n_epochs = 20\n",
    "total_series_length = 50000\n",
    "truncated_backprop_steps = 15\n",
    "state_size = 4 \n",
    "n_classes = 2\n",
    "echo_step = 3 # Number of steps the input is shifted to the right\n",
    "batch_size = 5\n",
    "eta = 0.01 # Learning rate\n",
    "n_batches = total_series_length // batch_size // truncated_backprop_steps"
   ]
  },
  {
   "cell_type": "markdown",
   "metadata": {},
   "source": [
    "## Input data"
   ]
  },
  {
   "cell_type": "code",
   "execution_count": 3,
   "metadata": {
    "collapsed": true
   },
   "outputs": [],
   "source": [
    "def generateData():\n",
    "    \"\"\"\n",
    "    Generates training data. The input data is simply a vector of random\n",
    "    numbers with n_classes classes. The target output is the input shifted \n",
    "    by \"echo_steps\" steps to the right.\n",
    "    \n",
    "    Returns:\n",
    "        x: numpy array of shape (batch_size,-1) filled with random values\n",
    "        in the range (n_classes)\n",
    "        \n",
    "        y: numpy array of shape (batch_size, -1), x shifted \"echo_step\" to \n",
    "        the right\n",
    "    \"\"\"\n",
    "\n",
    "    x = np.array(np.random.choice(n_classes, total_series_length))\n",
    "    y = np.roll(x, echo_step)\n",
    "    y[0:echo_step] = 0\n",
    "\n",
    "    x = x.reshape((batch_size, -1))\n",
    "    y = y.reshape((batch_size, -1))\n",
    "\n",
    "    return(x, y)"
   ]
  },
  {
   "cell_type": "markdown",
   "metadata": {},
   "source": [
    "## Network architecture and forward pass\n",
    "\n",
    "When using TensorFlow's RNN API we no longer need to define the weight matrices and bias vectors manually. Also, the code of the forward pass can be simplified.\n",
    "\n",
    "To match the RNN function requirements, the input data needs to be reshaped into a list of \"truncated_backprop_steps\" tensors of shape (batch_size, input_size). In our case, the input size is simply 1."
   ]
  },
  {
   "cell_type": "code",
   "execution_count": 4,
   "metadata": {
    "collapsed": true
   },
   "outputs": [],
   "source": [
    "X_placeholder = tf.placeholder(tf.float32, shape=[batch_size, truncated_backprop_steps])\n",
    "y_placeholder = tf.placeholder(tf.int32, shape=[batch_size, truncated_backprop_steps])\n",
    "\n",
    "\n",
    "input_series = tf.split(X_placeholder, truncated_backprop_steps,1)\n",
    "label_series = tf.unstack(y_placeholder, axis=1)\n",
    "\n",
    "init_state = tf.zeros([batch_size, state_size])"
   ]
  },
  {
   "cell_type": "code",
   "execution_count": 5,
   "metadata": {
    "collapsed": false
   },
   "outputs": [],
   "source": [
    "# Forward pass\n",
    "cell = tf.contrib.rnn.BasicRNNCell(state_size, )\n",
    "\n",
    "# Create a recurrent neural network specified by \"cell\"\n",
    "# Returns a list of all previous RNN states and the final state\n",
    "outputs, final_state = tf.contrib.rnn.static_rnn(cell, input_series, initial_state=init_state)"
   ]
  },
  {
   "cell_type": "markdown",
   "metadata": {},
   "source": [
    "## Network output and loss function\n",
    "\n",
    "The predictions of the RNN and the loss are computed in the same way as before."
   ]
  },
  {
   "cell_type": "code",
   "execution_count": 6,
   "metadata": {
    "collapsed": false
   },
   "outputs": [],
   "source": [
    "V = tf.Variable(np.random.randn(state_size, n_classes), dtype=tf.float32)\n",
    "c = tf.Variable(np.zeros((1,n_classes)), dtype=tf.float32)\n",
    "\n",
    "logits = [tf.matmul(state,V)+c for state in outputs]\n",
    "predictions = [tf.nn.softmax(l) for l in logits]\n",
    "\n",
    "# Compute the loss\n",
    "loss = [tf.nn.sparse_softmax_cross_entropy_with_logits(labels=label, logits=logit)\n",
    "       for label, logit in zip(label_series, logits)]\n",
    "total_loss = tf.reduce_mean(loss)\n",
    "\n",
    "optimizer = tf.train.AdamOptimizer(learning_rate=eta).minimize(total_loss)"
   ]
  },
  {
   "cell_type": "markdown",
   "metadata": {},
   "source": [
    "## Training"
   ]
  },
  {
   "cell_type": "code",
   "execution_count": 9,
   "metadata": {
    "collapsed": false
   },
   "outputs": [
    {
     "name": "stdout",
     "output_type": "stream",
     "text": [
      "\n",
      "Epoch:  0\n",
      "Step:  0 Loss:  0.682092\n",
      "Step:  100 Loss:  0.394542\n",
      "Step:  200 Loss:  0.157631\n",
      "Step:  300 Loss:  0.171931\n",
      "Step:  400 Loss:  0.149096\n",
      "Step:  500 Loss:  0.148504\n",
      "Step:  600 Loss:  0.126917\n",
      "\n",
      "Epoch:  1\n",
      "Step:  0 Loss:  0.135958\n",
      "Step:  100 Loss:  0.159\n",
      "Step:  200 Loss:  0.142352\n",
      "Step:  300 Loss:  0.165382\n",
      "Step:  400 Loss:  0.135805\n",
      "Step:  500 Loss:  0.125253\n",
      "Step:  600 Loss:  0.135081\n",
      "\n",
      "Epoch:  2\n",
      "Step:  0 Loss:  0.139048\n",
      "Step:  100 Loss:  0.160851\n",
      "Step:  200 Loss:  0.170753\n",
      "Step:  300 Loss:  0.137569\n",
      "Step:  400 Loss:  0.13264\n",
      "Step:  500 Loss:  0.152815\n",
      "Step:  600 Loss:  0.151986\n",
      "\n",
      "Epoch:  3\n",
      "Step:  0 Loss:  0.143798\n",
      "Step:  100 Loss:  0.148373\n",
      "Step:  200 Loss:  0.138632\n",
      "Step:  300 Loss:  0.157671\n",
      "Step:  400 Loss:  0.150207\n",
      "Step:  500 Loss:  0.146684\n",
      "Step:  600 Loss:  0.150197\n",
      "\n",
      "Epoch:  4\n",
      "Step:  0 Loss:  0.163768\n",
      "Step:  100 Loss:  0.158523\n",
      "Step:  200 Loss:  0.149304\n",
      "Step:  300 Loss:  0.138251\n",
      "Step:  400 Loss:  0.136654\n",
      "Step:  500 Loss:  0.150063\n",
      "Step:  600 Loss:  0.145383\n",
      "\n",
      "Epoch:  5\n",
      "Step:  0 Loss:  0.134256\n",
      "Step:  100 Loss:  0.14831\n",
      "Step:  200 Loss:  0.140186\n",
      "Step:  300 Loss:  0.168516\n",
      "Step:  400 Loss:  0.134487\n",
      "Step:  500 Loss:  0.152486\n",
      "Step:  600 Loss:  0.157168\n",
      "\n",
      "Epoch:  6\n",
      "Step:  0 Loss:  0.136108\n",
      "Step:  100 Loss:  0.147471\n",
      "Step:  200 Loss:  0.139166\n",
      "Step:  300 Loss:  0.13956\n",
      "Step:  400 Loss:  0.154659\n",
      "Step:  500 Loss:  0.133999\n",
      "Step:  600 Loss:  0.135234\n",
      "\n",
      "Epoch:  7\n",
      "Step:  0 Loss:  0.143125\n",
      "Step:  100 Loss:  0.151675\n",
      "Step:  200 Loss:  0.129223\n",
      "Step:  300 Loss:  0.141328\n",
      "Step:  400 Loss:  0.145806\n",
      "Step:  500 Loss:  0.150637\n",
      "Step:  600 Loss:  0.131339\n",
      "\n",
      "Epoch:  8\n",
      "Step:  0 Loss:  0.123534\n",
      "Step:  100 Loss:  0.153459\n",
      "Step:  200 Loss:  0.149491\n",
      "Step:  300 Loss:  0.145704\n",
      "Step:  400 Loss:  0.182109\n",
      "Step:  500 Loss:  0.135723\n",
      "Step:  600 Loss:  0.139029\n",
      "\n",
      "Epoch:  9\n",
      "Step:  0 Loss:  0.137996\n",
      "Step:  100 Loss:  0.179503\n",
      "Step:  200 Loss:  0.161479\n",
      "Step:  300 Loss:  0.15327\n",
      "Step:  400 Loss:  0.138087\n",
      "Step:  500 Loss:  0.1353\n",
      "Step:  600 Loss:  0.131956\n",
      "\n",
      "Epoch:  10\n",
      "Step:  0 Loss:  0.139235\n",
      "Step:  100 Loss:  0.154527\n",
      "Step:  200 Loss:  0.149751\n",
      "Step:  300 Loss:  0.138975\n",
      "Step:  400 Loss:  0.16224\n",
      "Step:  500 Loss:  0.149066\n",
      "Step:  600 Loss:  0.127465\n",
      "\n",
      "Epoch:  11\n",
      "Step:  0 Loss:  0.148995\n",
      "Step:  100 Loss:  0.125015\n",
      "Step:  200 Loss:  0.12967\n",
      "Step:  300 Loss:  0.158136\n",
      "Step:  400 Loss:  0.137382\n",
      "Step:  500 Loss:  0.144256\n",
      "Step:  600 Loss:  0.130472\n",
      "\n",
      "Epoch:  12\n",
      "Step:  0 Loss:  0.137133\n",
      "Step:  100 Loss:  0.140202\n",
      "Step:  200 Loss:  0.146383\n",
      "Step:  300 Loss:  0.13228\n",
      "Step:  400 Loss:  0.181113\n",
      "Step:  500 Loss:  0.148267\n",
      "Step:  600 Loss:  0.13239\n",
      "\n",
      "Epoch:  13\n",
      "Step:  0 Loss:  0.149678\n",
      "Step:  100 Loss:  0.145343\n",
      "Step:  200 Loss:  0.142968\n",
      "Step:  300 Loss:  0.145193\n",
      "Step:  400 Loss:  0.135957\n",
      "Step:  500 Loss:  0.144664\n",
      "Step:  600 Loss:  0.157704\n",
      "\n",
      "Epoch:  14\n",
      "Step:  0 Loss:  0.154239\n",
      "Step:  100 Loss:  0.150571\n",
      "Step:  200 Loss:  0.13402\n",
      "Step:  300 Loss:  0.140544\n",
      "Step:  400 Loss:  0.142121\n",
      "Step:  500 Loss:  0.135053\n",
      "Step:  600 Loss:  0.152593\n",
      "\n",
      "Epoch:  15\n",
      "Step:  0 Loss:  0.140713\n",
      "Step:  100 Loss:  0.157764\n",
      "Step:  200 Loss:  0.139496\n",
      "Step:  300 Loss:  0.141819\n",
      "Step:  400 Loss:  0.144651\n",
      "Step:  500 Loss:  0.131943\n",
      "Step:  600 Loss:  0.143777\n",
      "\n",
      "Epoch:  16\n",
      "Step:  0 Loss:  0.156709\n",
      "Step:  100 Loss:  0.143489\n",
      "Step:  200 Loss:  0.137559\n",
      "Step:  300 Loss:  0.140924\n",
      "Step:  400 Loss:  0.15728\n",
      "Step:  500 Loss:  0.145136\n",
      "Step:  600 Loss:  0.139386\n",
      "\n",
      "Epoch:  17\n",
      "Step:  0 Loss:  0.174603\n",
      "Step:  100 Loss:  0.128982\n",
      "Step:  200 Loss:  0.159861\n",
      "Step:  300 Loss:  0.165169\n",
      "Step:  400 Loss:  0.161301\n",
      "Step:  500 Loss:  0.120358\n",
      "Step:  600 Loss:  0.151801\n",
      "\n",
      "Epoch:  18\n",
      "Step:  0 Loss:  0.131088\n",
      "Step:  100 Loss:  0.134341\n",
      "Step:  200 Loss:  0.119812\n",
      "Step:  300 Loss:  0.128783\n",
      "Step:  400 Loss:  0.144751\n",
      "Step:  500 Loss:  0.141761\n",
      "Step:  600 Loss:  0.17024\n",
      "\n",
      "Epoch:  19\n",
      "Step:  0 Loss:  0.144306\n",
      "Step:  100 Loss:  0.13709\n",
      "Step:  200 Loss:  0.142609\n",
      "Step:  300 Loss:  0.147788\n",
      "Step:  400 Loss:  0.161904\n",
      "Step:  500 Loss:  0.158019\n",
      "Step:  600 Loss:  0.15323\n"
     ]
    }
   ],
   "source": [
    "with tf.Session() as sess:\n",
    "    init = tf.global_variables_initializer()\n",
    "    sess.run(init)\n",
    "    \n",
    "    training_losses = []\n",
    "    \n",
    "    for epoch in range(n_epochs):\n",
    "        print(\"\")\n",
    "        print(\"Epoch: \", epoch)\n",
    "        \n",
    "        X_data, y_data = generateData()\n",
    "        \n",
    "        for batch in range(n_batches):\n",
    "        \n",
    "            start_idx = batch*truncated_backprop_steps\n",
    "            end_idx = start_idx+truncated_backprop_steps\n",
    "            \n",
    "            batch_x = X_data[:, start_idx:end_idx]\n",
    "            batch_y = y_data[:, start_idx:end_idx]\n",
    "\n",
    "            _total_loss, _optimizer = sess.run(\n",
    "                [total_loss, optimizer],\n",
    "                feed_dict={\n",
    "                    X_placeholder: batch_x,\n",
    "                    y_placeholder:batch_y})\n",
    "            \n",
    "            training_losses.append(_total_loss)\n",
    "            \n",
    "            if batch%100 == 0:\n",
    "                print(\"Step: \", batch, \"Loss: \", _total_loss)"
   ]
  },
  {
   "cell_type": "code",
   "execution_count": 11,
   "metadata": {
    "collapsed": false
   },
   "outputs": [
    {
     "data": {
      "image/png": "[encoded data removed]",
      "text/plain": [
       "<matplotlib.figure.Figure at 0x7feaadf37518>"
      ]
     },
     "metadata": {},
     "output_type": "display_data"
    }
   ],
   "source": [
    "plt.figure(figsize=(10,8));\n",
    "plt.plot(training_losses);\n",
    "plt.xlabel('Number of training iterations');\n",
    "plt.ylabel('Error');"
   ]
  },
  {
   "cell_type": "code",
   "execution_count": null,
   "metadata": {
    "collapsed": true
   },
   "outputs": [],
   "source": []
  }
 ],
 "metadata": {
  "kernelspec": {
   "display_name": "Python [conda root]",
   "language": "python",
   "name": "conda-root-py"
  },
  "language_info": {
   "codemirror_mode": {
    "name": "ipython",
    "version": 3
   },
   "file_extension": ".py",
   "mimetype": "text/x-python",
   "name": "python",
   "nbconvert_exporter": "python",
   "pygments_lexer": "ipython3",
   "version": "3.5.2"
  }
 },
 "nbformat": 4,
 "nbformat_minor": 2
}
