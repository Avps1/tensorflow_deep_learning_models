{
 "cells": [
  {
   "cell_type": "markdown",
   "metadata": {},
   "source": [
    "# Basic LSTM-RNN using the TensorFlow RNN API\n",
    "\n",
    "In a next step we modify our model to use the functionalities provided by TensorFlow. "
   ]
  },
  {
   "cell_type": "code",
   "execution_count": 1,
   "metadata": {
    "collapsed": false
   },
   "outputs": [],
   "source": [
    "% matplotlib inline\n",
    "import tensorflow as tf\n",
    "import numpy as np\n",
    "import matplotlib.pyplot as plt\n",
    "import seaborn as sns"
   ]
  },
  {
   "cell_type": "code",
   "execution_count": 2,
   "metadata": {
    "collapsed": false
   },
   "outputs": [],
   "source": [
    "# Global configuration parameters\n",
    "n_epochs = 20\n",
    "total_series_length = 50000\n",
    "truncated_backprop_steps = 15\n",
    "state_size = 4 \n",
    "n_classes = 2\n",
    "echo_step = 3 # Number of steps the input is shifted to the right\n",
    "batch_size = 5\n",
    "eta = 0.01 # Learning rate\n",
    "n_batches = total_series_length // batch_size // truncated_backprop_steps"
   ]
  },
  {
   "cell_type": "markdown",
   "metadata": {},
   "source": [
    "## Input data"
   ]
  },
  {
   "cell_type": "code",
   "execution_count": 3,
   "metadata": {
    "collapsed": true
   },
   "outputs": [],
   "source": [
    "def generateData():\n",
    "    \"\"\"\n",
    "    Generates training data. The input data is simply a vector of random\n",
    "    numbers with n_classes classes. The target output is the input shifted \n",
    "    by \"echo_steps\" steps to the right.\n",
    "    \n",
    "    Returns:\n",
    "        x: numpy array of shape (batch_size,-1) filled with random values\n",
    "        in the range (n_classes)\n",
    "        \n",
    "        y: numpy array of shape (batch_size, -1), x shifted \"echo_step\" to \n",
    "        the right\n",
    "    \"\"\"\n",
    "\n",
    "    x = np.array(np.random.choice(n_classes, total_series_length))\n",
    "    y = np.roll(x, echo_step)\n",
    "    y[0:echo_step] = 0\n",
    "\n",
    "    x = x.reshape((batch_size, -1))\n",
    "    y = y.reshape((batch_size, -1))\n",
    "\n",
    "    return(x, y)"
   ]
  },
  {
   "cell_type": "code",
   "execution_count": 4,
   "metadata": {
    "collapsed": false
   },
   "outputs": [
    {
     "data": {
      "text/plain": [
       "(10000,)"
      ]
     },
     "execution_count": 4,
     "metadata": {},
     "output_type": "execute_result"
    }
   ],
   "source": [
    "a, b = generateData()\n",
    "a[0].shape"
   ]
  },
  {
   "cell_type": "markdown",
   "metadata": {},
   "source": [
    "## Network architecture and forward pass\n",
    "\n",
    "When using TensorFlow's RNN API we no longer need to define the weight matrices and bias vectors manually. Also, the code of the forward pass can be simplified.\n",
    "\n",
    "When using the static RNN function, the input data needs to be reshaped into a list of \"truncated_backprop_steps\" tensors of shape (batch_size, input_size). In our case, the input size is simply 1."
   ]
  },
  {
   "cell_type": "code",
   "execution_count": 5,
   "metadata": {
    "collapsed": true
   },
   "outputs": [],
   "source": [
    "X_placeholder = tf.placeholder(tf.float32, shape=[batch_size, truncated_backprop_steps])\n",
    "y_placeholder = tf.placeholder(tf.int32, shape=[batch_size, truncated_backprop_steps])\n",
    "\n",
    "\n",
    "input_series = tf.split(X_placeholder, truncated_backprop_steps,1)\n",
    "label_series = tf.unstack(y_placeholder, axis=1)\n",
    "\n",
    "init_state = tf.zeros([batch_size, state_size])"
   ]
  },
  {
   "cell_type": "code",
   "execution_count": 6,
   "metadata": {
    "collapsed": false
   },
   "outputs": [],
   "source": [
    "# Forward pass using LSTM cell\n",
    "# For each initialized LSTM cell we need to specify how many hidden\n",
    "# units the cell should have.\n",
    "\n",
    "n_hidden = 20\n",
    "lstm_cell = tf.contrib.rnn.BasicLSTMCell(n_hidden)\n",
    "\n",
    "# Create a recurrent neural network specified by \"cell\", i.e. it unrolls the\n",
    "# network.\n",
    "# Returns a list of all previous RNN states and the final state\n",
    "outputs, final_state = tf.contrib.rnn.static_rnn(lstm_cell, input_series, dtype=tf.float32)"
   ]
  },
  {
   "cell_type": "code",
   "execution_count": null,
   "metadata": {
    "collapsed": false
   },
   "outputs": [],
   "source": []
  },
  {
   "cell_type": "markdown",
   "metadata": {},
   "source": [
    "## Network output and loss function\n",
    "\n",
    "The predictions of the RNN and the loss are computed in the same way as before."
   ]
  },
  {
   "cell_type": "code",
   "execution_count": 7,
   "metadata": {
    "collapsed": false
   },
   "outputs": [],
   "source": [
    "V = tf.Variable(np.random.randn(n_hidden, n_classes), dtype=tf.float32)\n",
    "c = tf.Variable(np.zeros((1,n_classes)), dtype=tf.float32)\n",
    "\n",
    "logits = [tf.matmul(state,V)+c for state in outputs]\n",
    "predictions = [tf.nn.softmax(l) for l in logits]\n",
    "\n",
    "# Compute the loss\n",
    "loss = [tf.nn.sparse_softmax_cross_entropy_with_logits(labels=label, logits=logit)\n",
    "       for label, logit in zip(label_series, logits)]\n",
    "total_loss = tf.reduce_mean(loss)\n",
    "\n",
    "optimizer = tf.train.AdamOptimizer(learning_rate=eta).minimize(total_loss)"
   ]
  },
  {
   "cell_type": "markdown",
   "metadata": {},
   "source": [
    "## Training"
   ]
  },
  {
   "cell_type": "code",
   "execution_count": 8,
   "metadata": {
    "collapsed": false
   },
   "outputs": [
    {
     "name": "stdout",
     "output_type": "stream",
     "text": [
      "\n",
      "Epoch:  0\n",
      "Step:  0 Loss:  0.695844\n",
      "Step:  100 Loss:  0.311618\n",
      "Step:  200 Loss:  0.129909\n",
      "Step:  300 Loss:  0.136699\n",
      "Step:  400 Loss:  0.137426\n",
      "Step:  500 Loss:  0.143152\n",
      "Step:  600 Loss:  0.144726\n",
      "\n",
      "Epoch:  1\n",
      "Step:  0 Loss:  0.13413\n",
      "Step:  100 Loss:  0.146924\n",
      "Step:  200 Loss:  0.146619\n",
      "Step:  300 Loss:  0.134512\n",
      "Step:  400 Loss:  0.147862\n",
      "Step:  500 Loss:  0.13615\n",
      "Step:  600 Loss:  0.136718\n",
      "\n",
      "Epoch:  2\n",
      "Step:  0 Loss:  0.144479\n",
      "Step:  100 Loss:  0.130651\n",
      "Step:  200 Loss:  0.144561\n",
      "Step:  300 Loss:  0.152455\n",
      "Step:  400 Loss:  0.135442\n",
      "Step:  500 Loss:  0.141138\n",
      "Step:  600 Loss:  0.139409\n",
      "\n",
      "Epoch:  3\n",
      "Step:  0 Loss:  0.131924\n",
      "Step:  100 Loss:  0.158497\n",
      "Step:  200 Loss:  0.143508\n",
      "Step:  300 Loss:  0.130087\n",
      "Step:  400 Loss:  0.125374\n",
      "Step:  500 Loss:  0.143494\n",
      "Step:  600 Loss:  0.144832\n",
      "\n",
      "Epoch:  4\n",
      "Step:  0 Loss:  0.125785\n",
      "Step:  100 Loss:  0.141986\n",
      "Step:  200 Loss:  0.134914\n",
      "Step:  300 Loss:  0.128537\n",
      "Step:  400 Loss:  0.14005\n",
      "Step:  500 Loss:  0.139004\n",
      "Step:  600 Loss:  0.139902\n",
      "\n",
      "Epoch:  5\n",
      "Step:  0 Loss:  0.137661\n",
      "Step:  100 Loss:  0.125467\n",
      "Step:  200 Loss:  0.135788\n",
      "Step:  300 Loss:  0.142095\n",
      "Step:  400 Loss:  0.149312\n",
      "Step:  500 Loss:  0.141529\n",
      "Step:  600 Loss:  0.147266\n",
      "\n",
      "Epoch:  6\n",
      "Step:  0 Loss:  0.140762\n",
      "Step:  100 Loss:  0.136467\n",
      "Step:  200 Loss:  0.145796\n",
      "Step:  300 Loss:  0.143939\n",
      "Step:  400 Loss:  0.139007\n",
      "Step:  500 Loss:  0.139788\n",
      "Step:  600 Loss:  0.14125\n",
      "\n",
      "Epoch:  7\n",
      "Step:  0 Loss:  0.137342\n",
      "Step:  100 Loss:  0.133382\n",
      "Step:  200 Loss:  0.13753\n",
      "Step:  300 Loss:  0.147247\n",
      "Step:  400 Loss:  0.144685\n",
      "Step:  500 Loss:  0.140159\n",
      "Step:  600 Loss:  0.132191\n",
      "\n",
      "Epoch:  8\n",
      "Step:  0 Loss:  0.139846\n",
      "Step:  100 Loss:  0.141558\n",
      "Step:  200 Loss:  0.133758\n",
      "Step:  300 Loss:  0.143105\n",
      "Step:  400 Loss:  0.143036\n",
      "Step:  500 Loss:  0.136365\n",
      "Step:  600 Loss:  0.1375\n",
      "\n",
      "Epoch:  9\n",
      "Step:  0 Loss:  0.146566\n",
      "Step:  100 Loss:  0.134588\n",
      "Step:  200 Loss:  0.1421\n",
      "Step:  300 Loss:  0.143532\n",
      "Step:  400 Loss:  0.13747\n",
      "Step:  500 Loss:  0.132197\n",
      "Step:  600 Loss:  0.141138\n",
      "\n",
      "Epoch:  10\n",
      "Step:  0 Loss:  0.136133\n",
      "Step:  100 Loss:  0.136676\n",
      "Step:  200 Loss:  0.148127\n",
      "Step:  300 Loss:  0.145736\n",
      "Step:  400 Loss:  0.137991\n",
      "Step:  500 Loss:  0.138797\n",
      "Step:  600 Loss:  0.138441\n",
      "\n",
      "Epoch:  11\n",
      "Step:  0 Loss:  0.140909\n",
      "Step:  100 Loss:  0.13923\n",
      "Step:  200 Loss:  0.136834\n",
      "Step:  300 Loss:  0.131034\n",
      "Step:  400 Loss:  0.138656\n",
      "Step:  500 Loss:  0.138952\n",
      "Step:  600 Loss:  0.138799\n",
      "\n",
      "Epoch:  12\n",
      "Step:  0 Loss:  0.142795\n",
      "Step:  100 Loss:  0.13712\n",
      "Step:  200 Loss:  0.143224\n",
      "Step:  300 Loss:  0.136267\n",
      "Step:  400 Loss:  0.13844\n",
      "Step:  500 Loss:  0.136364\n",
      "Step:  600 Loss:  0.142182\n",
      "\n",
      "Epoch:  13\n",
      "Step:  0 Loss:  0.140784\n",
      "Step:  100 Loss:  0.140956\n",
      "Step:  200 Loss:  0.143017\n",
      "Step:  300 Loss:  0.142568\n",
      "Step:  400 Loss:  0.140676\n",
      "Step:  500 Loss:  0.136629\n",
      "Step:  600 Loss:  0.137171\n",
      "\n",
      "Epoch:  14\n",
      "Step:  0 Loss:  0.138476\n",
      "Step:  100 Loss:  0.13481\n",
      "Step:  200 Loss:  0.137735\n",
      "Step:  300 Loss:  0.138533\n",
      "Step:  400 Loss:  0.139343\n",
      "Step:  500 Loss:  0.147608\n",
      "Step:  600 Loss:  0.143325\n",
      "\n",
      "Epoch:  15\n",
      "Step:  0 Loss:  0.138894\n",
      "Step:  100 Loss:  0.135232\n",
      "Step:  200 Loss:  0.137125\n",
      "Step:  300 Loss:  0.138982\n",
      "Step:  400 Loss:  0.137563\n",
      "Step:  500 Loss:  0.138406\n",
      "Step:  600 Loss:  0.141771\n",
      "\n",
      "Epoch:  16\n",
      "Step:  0 Loss:  0.137817\n",
      "Step:  100 Loss:  0.137547\n",
      "Step:  200 Loss:  0.137399\n",
      "Step:  300 Loss:  0.13711\n",
      "Step:  400 Loss:  0.137494\n",
      "Step:  500 Loss:  0.141048\n",
      "Step:  600 Loss:  0.135607\n",
      "\n",
      "Epoch:  17\n",
      "Step:  0 Loss:  0.138594\n",
      "Step:  100 Loss:  0.138227\n",
      "Step:  200 Loss:  0.142876\n",
      "Step:  300 Loss:  0.138222\n",
      "Step:  400 Loss:  0.136581\n",
      "Step:  500 Loss:  0.141085\n",
      "Step:  600 Loss:  0.138739\n",
      "\n",
      "Epoch:  18\n",
      "Step:  0 Loss:  0.140198\n",
      "Step:  100 Loss:  0.136174\n",
      "Step:  200 Loss:  0.13645\n",
      "Step:  300 Loss:  0.138267\n",
      "Step:  400 Loss:  0.138858\n",
      "Step:  500 Loss:  0.135074\n",
      "Step:  600 Loss:  0.216026\n",
      "\n",
      "Epoch:  19\n",
      "Step:  0 Loss:  0.135775\n",
      "Step:  100 Loss:  0.139457\n",
      "Step:  200 Loss:  0.142121\n",
      "Step:  300 Loss:  0.152426\n",
      "Step:  400 Loss:  0.139346\n",
      "Step:  500 Loss:  0.138949\n",
      "Step:  600 Loss:  0.140423\n"
     ]
    }
   ],
   "source": [
    "with tf.Session() as sess:\n",
    "    init = tf.global_variables_initializer()\n",
    "    sess.run(init)\n",
    "    \n",
    "    training_losses = []\n",
    "    \n",
    "    for epoch in range(n_epochs):\n",
    "        print(\"\")\n",
    "        print(\"Epoch: \", epoch)\n",
    "        \n",
    "        X_data, y_data = generateData()\n",
    "        \n",
    "        for batch in range(n_batches):\n",
    "        \n",
    "            start_idx = batch*truncated_backprop_steps\n",
    "            end_idx = start_idx+truncated_backprop_steps\n",
    "            \n",
    "            batch_x = X_data[:, start_idx:end_idx]\n",
    "            batch_y = y_data[:, start_idx:end_idx]\n",
    "\n",
    "            _total_loss, _optimizer = sess.run(\n",
    "                [total_loss, optimizer],\n",
    "                feed_dict={\n",
    "                    X_placeholder: batch_x,\n",
    "                    y_placeholder:batch_y})\n",
    "            \n",
    "            training_losses.append(_total_loss)\n",
    "            \n",
    "            if batch%100 == 0:\n",
    "                print(\"Step: \", batch, \"Loss: \", _total_loss)"
   ]
  },
  {
   "cell_type": "code",
   "execution_count": 10,
   "metadata": {
    "collapsed": false
   },
   "outputs": [
    {
     "data": {
      "image/png": "[encoded data removed]",
      "text/plain": [
       "<matplotlib.figure.Figure at 0x7fc6ddc95c50>"
      ]
     },
     "metadata": {},
     "output_type": "display_data"
    }
   ],
   "source": [
    "plt.figure(figsize=(10,8));\n",
    "plt.plot(training_losses);\n",
    "plt.xlabel('Number of training iterations');\n",
    "plt.ylabel('Error');"
   ]
  },
  {
   "cell_type": "code",
   "execution_count": null,
   "metadata": {
    "collapsed": true
   },
   "outputs": [],
   "source": []
  }
 ],
 "metadata": {
  "kernelspec": {
   "display_name": "Python [conda root]",
   "language": "python",
   "name": "conda-root-py"
  },
  "language_info": {
   "codemirror_mode": {
    "name": "ipython",
    "version": 3
   },
   "file_extension": ".py",
   "mimetype": "text/x-python",
   "name": "python",
   "nbconvert_exporter": "python",
   "pygments_lexer": "ipython3",
   "version": "3.5.2"
  }
 },
 "nbformat": 4,
 "nbformat_minor": 2
}
