{
 "cells": [
  {
   "cell_type": "markdown",
   "metadata": {},
   "source": [
    "# Basic LSTM-RNN using the TensorFlow RNN API\n",
    "\n",
    "In a next step we modify our model to use the functionalities provided by TensorFlow. "
   ]
  },
  {
   "cell_type": "code",
   "execution_count": 1,
   "metadata": {
    "collapsed": false
   },
   "outputs": [],
   "source": [
    "% matplotlib inline\n",
    "import tensorflow as tf\n",
    "import numpy as np\n",
    "import matplotlib.pyplot as plt\n",
    "import seaborn as sns"
   ]
  },
  {
   "cell_type": "code",
   "execution_count": 2,
   "metadata": {
    "collapsed": false
   },
   "outputs": [],
   "source": [
    "# Global configuration parameters\n",
    "n_epochs = 20\n",
    "total_series_length = 50000\n",
    "truncated_backprop_steps = 15\n",
    "state_size = 4 \n",
    "n_classes = 2\n",
    "echo_step = 3 # Number of steps the input is shifted to the right\n",
    "batch_size = 5\n",
    "eta = 0.01 # Learning rate\n",
    "n_batches = total_series_length // batch_size // truncated_backprop_steps"
   ]
  },
  {
   "cell_type": "markdown",
   "metadata": {},
   "source": [
    "## Input data"
   ]
  },
  {
   "cell_type": "code",
   "execution_count": 3,
   "metadata": {
    "collapsed": true
   },
   "outputs": [],
   "source": [
    "def generateData():\n",
    "    \"\"\"\n",
    "    Generates training data. The input data is simply a vector of random\n",
    "    numbers with n_classes classes. The target output is the input shifted \n",
    "    by \"echo_steps\" steps to the right.\n",
    "    \n",
    "    Returns:\n",
    "        x: numpy array of shape (batch_size,-1) filled with random values\n",
    "        in the range (n_classes)\n",
    "        \n",
    "        y: numpy array of shape (batch_size, -1), x shifted \"echo_step\" to \n",
    "        the right\n",
    "    \"\"\"\n",
    "\n",
    "    x = np.array(np.random.choice(n_classes, total_series_length))\n",
    "    y = np.roll(x, echo_step)\n",
    "    y[0:echo_step] = 0\n",
    "\n",
    "    x = x.reshape((batch_size, -1))\n",
    "    y = y.reshape((batch_size, -1))\n",
    "\n",
    "    return(x, y)"
   ]
  },
  {
   "cell_type": "markdown",
   "metadata": {},
   "source": [
    "## Network architecture and forward pass\n",
    "\n",
    "When using TensorFlow's RNN API we no longer need to define the weight matrices and bias vectors manually. Also, the code of the forward pass can be simplified.\n",
    "\n",
    "To match the RNN function requirements, the input data needs to be reshaped into a list of \"truncated_backprop_steps\" tensors of shape (batch_size, input_size). In our case, the input size is simply 1."
   ]
  },
  {
   "cell_type": "code",
   "execution_count": 4,
   "metadata": {
    "collapsed": true
   },
   "outputs": [],
   "source": [
    "X_placeholder = tf.placeholder(tf.float32, shape=[batch_size, truncated_backprop_steps])\n",
    "y_placeholder = tf.placeholder(tf.int32, shape=[batch_size, truncated_backprop_steps])\n",
    "\n",
    "\n",
    "input_series = tf.split(X_placeholder, truncated_backprop_steps,1)\n",
    "label_series = tf.unstack(y_placeholder, axis=1)\n",
    "\n",
    "init_state = tf.zeros([batch_size, state_size])"
   ]
  },
  {
   "cell_type": "code",
   "execution_count": 5,
   "metadata": {
    "collapsed": false
   },
   "outputs": [],
   "source": [
    "# Forward pass\n",
    "n_hidden = 20\n",
    "lstm_cell = tf.contrib.rnn.BasicLSTMCell(n_hidden)\n",
    "\n",
    "# Create a recurrent neural network specified by \"cell\"\n",
    "# Returns a list of all previous RNN states and the final state\n",
    "outputs, final_state = tf.contrib.rnn.static_rnn(lstm_cell, input_series, dtype=tf.float32)"
   ]
  },
  {
   "cell_type": "code",
   "execution_count": 6,
   "metadata": {
    "collapsed": false
   },
   "outputs": [
    {
     "data": {
      "text/plain": [
       "[<tf.Tensor 'rnn/basic_lstm_cell/mul_2:0' shape=(5, 20) dtype=float32>,\n",
       " <tf.Tensor 'rnn/basic_lstm_cell_1/mul_2:0' shape=(5, 20) dtype=float32>,\n",
       " <tf.Tensor 'rnn/basic_lstm_cell_2/mul_2:0' shape=(5, 20) dtype=float32>,\n",
       " <tf.Tensor 'rnn/basic_lstm_cell_3/mul_2:0' shape=(5, 20) dtype=float32>,\n",
       " <tf.Tensor 'rnn/basic_lstm_cell_4/mul_2:0' shape=(5, 20) dtype=float32>,\n",
       " <tf.Tensor 'rnn/basic_lstm_cell_5/mul_2:0' shape=(5, 20) dtype=float32>,\n",
       " <tf.Tensor 'rnn/basic_lstm_cell_6/mul_2:0' shape=(5, 20) dtype=float32>,\n",
       " <tf.Tensor 'rnn/basic_lstm_cell_7/mul_2:0' shape=(5, 20) dtype=float32>,\n",
       " <tf.Tensor 'rnn/basic_lstm_cell_8/mul_2:0' shape=(5, 20) dtype=float32>,\n",
       " <tf.Tensor 'rnn/basic_lstm_cell_9/mul_2:0' shape=(5, 20) dtype=float32>,\n",
       " <tf.Tensor 'rnn/basic_lstm_cell_10/mul_2:0' shape=(5, 20) dtype=float32>,\n",
       " <tf.Tensor 'rnn/basic_lstm_cell_11/mul_2:0' shape=(5, 20) dtype=float32>,\n",
       " <tf.Tensor 'rnn/basic_lstm_cell_12/mul_2:0' shape=(5, 20) dtype=float32>,\n",
       " <tf.Tensor 'rnn/basic_lstm_cell_13/mul_2:0' shape=(5, 20) dtype=float32>,\n",
       " <tf.Tensor 'rnn/basic_lstm_cell_14/mul_2:0' shape=(5, 20) dtype=float32>]"
      ]
     },
     "execution_count": 6,
     "metadata": {},
     "output_type": "execute_result"
    }
   ],
   "source": [
    "outputs"
   ]
  },
  {
   "cell_type": "markdown",
   "metadata": {},
   "source": [
    "## Network output and loss function\n",
    "\n",
    "The predictions of the RNN and the loss are computed in the same way as before."
   ]
  },
  {
   "cell_type": "code",
   "execution_count": 7,
   "metadata": {
    "collapsed": false
   },
   "outputs": [],
   "source": [
    "V = tf.Variable(np.random.randn(n_hidden, n_classes), dtype=tf.float32)\n",
    "c = tf.Variable(np.zeros((1,n_classes)), dtype=tf.float32)\n",
    "\n",
    "logits = [tf.matmul(state,V)+c for state in outputs]\n",
    "predictions = [tf.nn.softmax(l) for l in logits]\n",
    "\n",
    "# Compute the loss\n",
    "loss = [tf.nn.sparse_softmax_cross_entropy_with_logits(labels=label, logits=logit)\n",
    "       for label, logit in zip(label_series, logits)]\n",
    "total_loss = tf.reduce_mean(loss)\n",
    "\n",
    "optimizer = tf.train.AdamOptimizer(learning_rate=eta).minimize(total_loss)"
   ]
  },
  {
   "cell_type": "markdown",
   "metadata": {},
   "source": [
    "## Training"
   ]
  },
  {
   "cell_type": "code",
   "execution_count": 8,
   "metadata": {
    "collapsed": false
   },
   "outputs": [
    {
     "name": "stdout",
     "output_type": "stream",
     "text": [
      "\n",
      "Epoch:  0\n",
      "Step:  0 Loss:  0.696295\n",
      "Step:  100 Loss:  0.287114\n",
      "Step:  200 Loss:  0.152417\n",
      "Step:  300 Loss:  0.144985\n",
      "Step:  400 Loss:  0.131413\n",
      "Step:  500 Loss:  0.139553\n",
      "Step:  600 Loss:  0.122346\n",
      "\n",
      "Epoch:  1\n",
      "Step:  0 Loss:  0.149228\n",
      "Step:  100 Loss:  0.148191\n",
      "Step:  200 Loss:  0.146765\n",
      "Step:  300 Loss:  0.139812\n",
      "Step:  400 Loss:  0.129999\n",
      "Step:  500 Loss:  0.144224\n",
      "Step:  600 Loss:  0.14775\n",
      "\n",
      "Epoch:  2\n",
      "Step:  0 Loss:  0.137575\n",
      "Step:  100 Loss:  0.158226\n",
      "Step:  200 Loss:  0.132934\n",
      "Step:  300 Loss:  0.146359\n",
      "Step:  400 Loss:  0.139806\n",
      "Step:  500 Loss:  0.13467\n",
      "Step:  600 Loss:  0.140261\n",
      "\n",
      "Epoch:  3\n",
      "Step:  0 Loss:  0.137749\n",
      "Step:  100 Loss:  0.143573\n",
      "Step:  200 Loss:  0.154142\n",
      "Step:  300 Loss:  0.133438\n",
      "Step:  400 Loss:  0.137951\n",
      "Step:  500 Loss:  0.147905\n",
      "Step:  600 Loss:  0.138926\n",
      "\n",
      "Epoch:  4\n",
      "Step:  0 Loss:  0.314581\n",
      "Step:  100 Loss:  0.147561\n",
      "Step:  200 Loss:  0.143617\n",
      "Step:  300 Loss:  0.140425\n",
      "Step:  400 Loss:  0.136918\n",
      "Step:  500 Loss:  0.153883\n",
      "Step:  600 Loss:  0.150709\n",
      "\n",
      "Epoch:  5\n",
      "Step:  0 Loss:  0.13444\n",
      "Step:  100 Loss:  0.139034\n",
      "Step:  200 Loss:  0.143057\n",
      "Step:  300 Loss:  0.147733\n",
      "Step:  400 Loss:  0.145416\n",
      "Step:  500 Loss:  0.147381\n",
      "Step:  600 Loss:  0.135036\n",
      "\n",
      "Epoch:  6\n",
      "Step:  0 Loss:  0.134633\n",
      "Step:  100 Loss:  0.140873\n",
      "Step:  200 Loss:  0.147884\n",
      "Step:  300 Loss:  0.133447\n",
      "Step:  400 Loss:  0.135815\n",
      "Step:  500 Loss:  0.138674\n",
      "Step:  600 Loss:  0.148815\n",
      "\n",
      "Epoch:  7\n",
      "Step:  0 Loss:  0.133409\n",
      "Step:  100 Loss:  0.144211\n",
      "Step:  200 Loss:  0.14102\n",
      "Step:  300 Loss:  0.145075\n",
      "Step:  400 Loss:  0.140549\n",
      "Step:  500 Loss:  0.143722\n",
      "Step:  600 Loss:  0.142593\n",
      "\n",
      "Epoch:  8\n",
      "Step:  0 Loss:  0.147105\n",
      "Step:  100 Loss:  0.144191\n",
      "Step:  200 Loss:  0.142192\n",
      "Step:  300 Loss:  0.13958\n",
      "Step:  400 Loss:  0.14184\n",
      "Step:  500 Loss:  0.135269\n",
      "Step:  600 Loss:  0.132079\n",
      "\n",
      "Epoch:  9\n",
      "Step:  0 Loss:  0.131687\n",
      "Step:  100 Loss:  0.131722\n",
      "Step:  200 Loss:  0.1305\n",
      "Step:  300 Loss:  0.140146\n",
      "Step:  400 Loss:  0.139703\n",
      "Step:  500 Loss:  0.13639\n",
      "Step:  600 Loss:  0.138266\n",
      "\n",
      "Epoch:  10\n",
      "Step:  0 Loss:  0.13634\n",
      "Step:  100 Loss:  0.136284\n",
      "Step:  200 Loss:  0.142999\n",
      "Step:  300 Loss:  0.144616\n",
      "Step:  400 Loss:  0.138284\n",
      "Step:  500 Loss:  0.146006\n",
      "Step:  600 Loss:  0.136069\n",
      "\n",
      "Epoch:  11\n",
      "Step:  0 Loss:  0.14491\n",
      "Step:  100 Loss:  0.131771\n",
      "Step:  200 Loss:  0.148562\n",
      "Step:  300 Loss:  0.135752\n",
      "Step:  400 Loss:  0.134443\n",
      "Step:  500 Loss:  0.144046\n",
      "Step:  600 Loss:  0.142463\n",
      "\n",
      "Epoch:  12\n",
      "Step:  0 Loss:  0.126795\n",
      "Step:  100 Loss:  0.142544\n",
      "Step:  200 Loss:  0.139819\n",
      "Step:  300 Loss:  0.135601\n",
      "Step:  400 Loss:  0.138575\n",
      "Step:  500 Loss:  0.143988\n",
      "Step:  600 Loss:  0.137975\n",
      "\n",
      "Epoch:  13\n",
      "Step:  0 Loss:  0.147614\n",
      "Step:  100 Loss:  0.140935\n",
      "Step:  200 Loss:  0.144115\n",
      "Step:  300 Loss:  0.145668\n",
      "Step:  400 Loss:  0.13762\n",
      "Step:  500 Loss:  0.144716\n",
      "Step:  600 Loss:  0.135855\n",
      "\n",
      "Epoch:  14\n",
      "Step:  0 Loss:  0.140148\n",
      "Step:  100 Loss:  0.140463\n",
      "Step:  200 Loss:  0.139801\n",
      "Step:  300 Loss:  0.147196\n",
      "Step:  400 Loss:  0.13634\n",
      "Step:  500 Loss:  0.1369\n",
      "Step:  600 Loss:  0.138357\n",
      "\n",
      "Epoch:  15\n",
      "Step:  0 Loss:  0.128599\n",
      "Step:  100 Loss:  0.138718\n",
      "Step:  200 Loss:  0.145141\n",
      "Step:  300 Loss:  0.141443\n",
      "Step:  400 Loss:  0.137074\n",
      "Step:  500 Loss:  0.138986\n",
      "Step:  600 Loss:  0.14338\n",
      "\n",
      "Epoch:  16\n",
      "Step:  0 Loss:  0.144863\n",
      "Step:  100 Loss:  0.132542\n",
      "Step:  200 Loss:  0.136369\n",
      "Step:  300 Loss:  0.143441\n",
      "Step:  400 Loss:  0.138563\n",
      "Step:  500 Loss:  0.135352\n",
      "Step:  600 Loss:  0.139795\n",
      "\n",
      "Epoch:  17\n",
      "Step:  0 Loss:  0.150242\n",
      "Step:  100 Loss:  0.135658\n",
      "Step:  200 Loss:  0.139889\n",
      "Step:  300 Loss:  0.144466\n",
      "Step:  400 Loss:  0.142532\n",
      "Step:  500 Loss:  0.13757\n",
      "Step:  600 Loss:  0.134807\n",
      "\n",
      "Epoch:  18\n",
      "Step:  0 Loss:  0.134592\n",
      "Step:  100 Loss:  0.138019\n",
      "Step:  200 Loss:  0.14411\n",
      "Step:  300 Loss:  0.132621\n",
      "Step:  400 Loss:  0.141694\n",
      "Step:  500 Loss:  0.135991\n",
      "Step:  600 Loss:  0.137017\n",
      "\n",
      "Epoch:  19\n",
      "Step:  0 Loss:  0.13709\n",
      "Step:  100 Loss:  0.139487\n",
      "Step:  200 Loss:  0.138546\n",
      "Step:  300 Loss:  0.132582\n",
      "Step:  400 Loss:  0.146347\n",
      "Step:  500 Loss:  0.13252\n",
      "Step:  600 Loss:  0.136116\n"
     ]
    }
   ],
   "source": [
    "with tf.Session() as sess:\n",
    "    init = tf.global_variables_initializer()\n",
    "    sess.run(init)\n",
    "    \n",
    "    training_losses = []\n",
    "    \n",
    "    for epoch in range(n_epochs):\n",
    "        print(\"\")\n",
    "        print(\"Epoch: \", epoch)\n",
    "        \n",
    "        X_data, y_data = generateData()\n",
    "        \n",
    "        for batch in range(n_batches):\n",
    "        \n",
    "            start_idx = batch*truncated_backprop_steps\n",
    "            end_idx = start_idx+truncated_backprop_steps\n",
    "            \n",
    "            batch_x = X_data[:, start_idx:end_idx]\n",
    "            batch_y = y_data[:, start_idx:end_idx]\n",
    "\n",
    "            _total_loss, _optimizer = sess.run(\n",
    "                [total_loss, optimizer],\n",
    "                feed_dict={\n",
    "                    X_placeholder: batch_x,\n",
    "                    y_placeholder:batch_y})\n",
    "            \n",
    "            training_losses.append(_total_loss)\n",
    "            \n",
    "            if batch%100 == 0:\n",
    "                print(\"Step: \", batch, \"Loss: \", _total_loss)"
   ]
  },
  {
   "cell_type": "code",
   "execution_count": 9,
   "metadata": {
    "collapsed": false
   },
   "outputs": [
    {
     "data": {
      "image/png": "[encoded data removed]",
      "text/plain": [
       "<matplotlib.figure.Figure at 0x7f13ec5229e8>"
      ]
     },
     "metadata": {},
     "output_type": "display_data"
    }
   ],
   "source": [
    "plt.figure(figsize=(10,8));\n",
    "plt.plot(training_losses);\n",
    "plt.xlabel('Number of training iterations');\n",
    "plt.ylabel('Error');"
   ]
  },
  {
   "cell_type": "code",
   "execution_count": null,
   "metadata": {
    "collapsed": true
   },
   "outputs": [],
   "source": []
  }
 ],
 "metadata": {
  "kernelspec": {
   "display_name": "Python [conda root]",
   "language": "python",
   "name": "conda-root-py"
  },
  "language_info": {
   "codemirror_mode": {
    "name": "ipython",
    "version": 3
   },
   "file_extension": ".py",
   "mimetype": "text/x-python",
   "name": "python",
   "nbconvert_exporter": "python",
   "pygments_lexer": "ipython3",
   "version": "3.5.2"
  }
 },
 "nbformat": 4,
 "nbformat_minor": 2
}
