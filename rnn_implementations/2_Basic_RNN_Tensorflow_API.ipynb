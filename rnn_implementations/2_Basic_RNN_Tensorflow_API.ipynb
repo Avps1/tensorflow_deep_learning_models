{
 "cells": [
  {
   "cell_type": "markdown",
   "metadata": {},
   "source": [
    "# Basic RNN using the TensorFlow RNN API\n",
    "\n",
    "In a next step we modify our model to use the functionalities provided by TensorFlow. \n"
   ]
  },
  {
   "cell_type": "code",
   "execution_count": 1,
   "metadata": {
    "collapsed": false
   },
   "outputs": [],
   "source": [
    "% matplotlib inline\n",
    "import tensorflow as tf\n",
    "import numpy as np\n",
    "import matplotlib.pyplot as plt\n",
    "import seaborn as sns"
   ]
  },
  {
   "cell_type": "code",
   "execution_count": 2,
   "metadata": {
    "collapsed": false
   },
   "outputs": [],
   "source": [
    "# Global configuration parameters\n",
    "n_epochs = 20\n",
    "total_series_length = 50000\n",
    "truncated_backprop_steps = 15\n",
    "state_size = 4 \n",
    "n_classes = 2\n",
    "echo_step = 3 # Number of steps the input is shifted to the right\n",
    "batch_size = 5\n",
    "eta = 0.01 # Learning rate\n",
    "n_batches = total_series_length // batch_size // truncated_backprop_steps"
   ]
  },
  {
   "cell_type": "markdown",
   "metadata": {},
   "source": [
    "## Input data"
   ]
  },
  {
   "cell_type": "code",
   "execution_count": 3,
   "metadata": {
    "collapsed": true
   },
   "outputs": [],
   "source": [
    "def generateData():\n",
    "    \"\"\"\n",
    "    Generates training data. The input data is simply a vector of random\n",
    "    numbers with n_classes classes. The target output is the input shifted \n",
    "    by \"echo_steps\" steps to the right.\n",
    "    \n",
    "    Returns:\n",
    "        x: numpy array of shape (batch_size,-1) filled with random values\n",
    "        in the range (n_classes)\n",
    "        \n",
    "        y: numpy array of shape (batch_size, -1), x shifted \"echo_step\" to \n",
    "        the right\n",
    "    \"\"\"\n",
    "\n",
    "    x = np.array(np.random.choice(n_classes, total_series_length))\n",
    "    y = np.roll(x, echo_step)\n",
    "    y[0:echo_step] = 0\n",
    "\n",
    "    x = x.reshape((batch_size, -1))\n",
    "    y = y.reshape((batch_size, -1))\n",
    "\n",
    "    return(x, y)"
   ]
  },
  {
   "cell_type": "markdown",
   "metadata": {},
   "source": [
    "## Network architecture and forward pass\n",
    "\n",
    "When using TensorFlow's RNN API we no longer need to define the weight matrices and bias vectors manually. Also, the code of the forward pass can be simplified.\n",
    "\n",
    "To match the RNN function requirements, the input data needs to be reshaped into a list of \"truncated_backprop_steps\" tensors of shape (batch_size, input_size). In our case, the input size is simply 1."
   ]
  },
  {
   "cell_type": "code",
   "execution_count": 4,
   "metadata": {
    "collapsed": true
   },
   "outputs": [],
   "source": [
    "X_placeholder = tf.placeholder(tf.float32, shape=[batch_size, truncated_backprop_steps])\n",
    "y_placeholder = tf.placeholder(tf.int32, shape=[batch_size, truncated_backprop_steps])\n",
    "\n",
    "\n",
    "input_series = tf.split(X_placeholder, truncated_backprop_steps,1)\n",
    "label_series = tf.unstack(y_placeholder, axis=1)\n",
    "\n",
    "init_state = tf.zeros([batch_size, state_size])"
   ]
  },
  {
   "cell_type": "code",
   "execution_count": 5,
   "metadata": {
    "collapsed": false
   },
   "outputs": [],
   "source": [
    "# Forward pass\n",
    "cell = tf.contrib.rnn.BasicRNNCell(state_size, )\n",
    "\n",
    "# Create a recurrent neural network specified by \"cell\"\n",
    "# Returns a list of all previous RNN states and the final state\n",
    "outputs, final_state = tf.contrib.rnn.static_rnn(cell, input_series, initial_state=init_state)"
   ]
  },
  {
   "cell_type": "markdown",
   "metadata": {},
   "source": [
    "## Network output and loss function\n",
    "\n",
    "The predictions of the RNN and the loss are computed in the same way as before."
   ]
  },
  {
   "cell_type": "code",
   "execution_count": 6,
   "metadata": {
    "collapsed": false
   },
   "outputs": [],
   "source": [
    "V = tf.Variable(np.random.randn(state_size, n_classes), dtype=tf.float32)\n",
    "c = tf.Variable(np.zeros((1,n_classes)), dtype=tf.float32)\n",
    "\n",
    "logits = [tf.matmul(state,V)+c for state in outputs]\n",
    "predictions = [tf.nn.softmax(l) for l in logits]\n",
    "\n",
    "# Compute the loss\n",
    "loss = [tf.nn.sparse_softmax_cross_entropy_with_logits(labels=label, logits=logit)\n",
    "       for label, logit in zip(label_series, logits)]\n",
    "total_loss = tf.reduce_mean(loss)\n",
    "\n",
    "optimizer = tf.train.AdamOptimizer(learning_rate=eta).minimize(total_loss)"
   ]
  },
  {
   "cell_type": "markdown",
   "metadata": {},
   "source": [
    "## Training"
   ]
  },
  {
   "cell_type": "code",
   "execution_count": 7,
   "metadata": {
    "collapsed": false
   },
   "outputs": [
    {
     "name": "stdout",
     "output_type": "stream",
     "text": [
      "\n",
      "Epoch:  0\n",
      "Step:  0 Loss:  0.64414\n",
      "Step:  100 Loss:  0.181427\n",
      "Step:  200 Loss:  0.160432\n",
      "Step:  300 Loss:  0.152448\n",
      "Step:  400 Loss:  0.146957\n",
      "Step:  500 Loss:  0.142985\n",
      "Step:  600 Loss:  0.129193\n",
      "\n",
      "Epoch:  1\n",
      "Step:  0 Loss:  0.138602\n",
      "Step:  100 Loss:  0.170856\n",
      "Step:  200 Loss:  0.142839\n",
      "Step:  300 Loss:  0.156202\n",
      "Step:  400 Loss:  0.147039\n",
      "Step:  500 Loss:  0.150153\n",
      "Step:  600 Loss:  0.153316\n",
      "\n",
      "Epoch:  2\n",
      "Step:  0 Loss:  0.14012\n",
      "Step:  100 Loss:  0.124501\n",
      "Step:  200 Loss:  0.148786\n",
      "Step:  300 Loss:  0.142234\n",
      "Step:  400 Loss:  0.140934\n",
      "Step:  500 Loss:  0.171297\n",
      "Step:  600 Loss:  0.137158\n",
      "\n",
      "Epoch:  3\n",
      "Step:  0 Loss:  0.136033\n",
      "Step:  100 Loss:  0.148148\n",
      "Step:  200 Loss:  0.154969\n",
      "Step:  300 Loss:  0.152395\n",
      "Step:  400 Loss:  0.136021\n",
      "Step:  500 Loss:  0.131414\n",
      "Step:  600 Loss:  0.137521\n",
      "\n",
      "Epoch:  4\n",
      "Step:  0 Loss:  0.143692\n",
      "Step:  100 Loss:  0.140326\n",
      "Step:  200 Loss:  0.152678\n",
      "Step:  300 Loss:  0.146582\n",
      "Step:  400 Loss:  0.157483\n",
      "Step:  500 Loss:  0.160243\n",
      "Step:  600 Loss:  0.143687\n",
      "\n",
      "Epoch:  5\n",
      "Step:  0 Loss:  0.127059\n",
      "Step:  100 Loss:  0.152095\n",
      "Step:  200 Loss:  0.145502\n",
      "Step:  300 Loss:  0.144509\n",
      "Step:  400 Loss:  0.156731\n",
      "Step:  500 Loss:  0.128839\n",
      "Step:  600 Loss:  0.128977\n",
      "\n",
      "Epoch:  6\n",
      "Step:  0 Loss:  0.138965\n",
      "Step:  100 Loss:  0.139433\n",
      "Step:  200 Loss:  0.128827\n",
      "Step:  300 Loss:  0.130935\n",
      "Step:  400 Loss:  0.166603\n",
      "Step:  500 Loss:  0.134323\n",
      "Step:  600 Loss:  0.148869\n",
      "\n",
      "Epoch:  7\n",
      "Step:  0 Loss:  0.147027\n",
      "Step:  100 Loss:  0.156901\n",
      "Step:  200 Loss:  0.134928\n",
      "Step:  300 Loss:  0.140214\n",
      "Step:  400 Loss:  0.148216\n",
      "Step:  500 Loss:  0.141023\n",
      "Step:  600 Loss:  0.140038\n",
      "\n",
      "Epoch:  8\n",
      "Step:  0 Loss:  0.160362\n",
      "Step:  100 Loss:  0.152004\n",
      "Step:  200 Loss:  0.169009\n",
      "Step:  300 Loss:  0.131094\n",
      "Step:  400 Loss:  0.143045\n",
      "Step:  500 Loss:  0.171003\n",
      "Step:  600 Loss:  0.126717\n",
      "\n",
      "Epoch:  9\n",
      "Step:  0 Loss:  0.134606\n",
      "Step:  100 Loss:  0.128633\n",
      "Step:  200 Loss:  0.174932\n",
      "Step:  300 Loss:  0.154053\n",
      "Step:  400 Loss:  0.130083\n",
      "Step:  500 Loss:  0.155085\n",
      "Step:  600 Loss:  0.127752\n",
      "\n",
      "Epoch:  10\n",
      "Step:  0 Loss:  0.150607\n",
      "Step:  100 Loss:  0.12715\n",
      "Step:  200 Loss:  0.136646\n",
      "Step:  300 Loss:  0.149178\n",
      "Step:  400 Loss:  0.157922\n",
      "Step:  500 Loss:  0.167657\n",
      "Step:  600 Loss:  0.148056\n",
      "\n",
      "Epoch:  11\n",
      "Step:  0 Loss:  0.138968\n",
      "Step:  100 Loss:  0.135298\n",
      "Step:  200 Loss:  0.142271\n",
      "Step:  300 Loss:  0.146068\n",
      "Step:  400 Loss:  0.136775\n",
      "Step:  500 Loss:  0.128752\n",
      "Step:  600 Loss:  0.135548\n",
      "\n",
      "Epoch:  12\n",
      "Step:  0 Loss:  0.144191\n",
      "Step:  100 Loss:  0.143226\n",
      "Step:  200 Loss:  0.144303\n",
      "Step:  300 Loss:  0.147981\n",
      "Step:  400 Loss:  0.146362\n",
      "Step:  500 Loss:  0.147757\n",
      "Step:  600 Loss:  0.173481\n",
      "\n",
      "Epoch:  13\n",
      "Step:  0 Loss:  0.143763\n",
      "Step:  100 Loss:  0.141006\n",
      "Step:  200 Loss:  0.138853\n",
      "Step:  300 Loss:  0.136932\n",
      "Step:  400 Loss:  0.145466\n",
      "Step:  500 Loss:  0.133752\n",
      "Step:  600 Loss:  0.132479\n",
      "\n",
      "Epoch:  14\n",
      "Step:  0 Loss:  0.157428\n",
      "Step:  100 Loss:  0.150768\n",
      "Step:  200 Loss:  0.158192\n",
      "Step:  300 Loss:  0.14956\n",
      "Step:  400 Loss:  0.154039\n",
      "Step:  500 Loss:  0.137105\n",
      "Step:  600 Loss:  0.138388\n",
      "\n",
      "Epoch:  15\n",
      "Step:  0 Loss:  0.136265\n",
      "Step:  100 Loss:  0.13579\n",
      "Step:  200 Loss:  0.126269\n",
      "Step:  300 Loss:  0.139344\n",
      "Step:  400 Loss:  0.148249\n",
      "Step:  500 Loss:  0.146104\n",
      "Step:  600 Loss:  0.145941\n",
      "\n",
      "Epoch:  16\n",
      "Step:  0 Loss:  0.144175\n",
      "Step:  100 Loss:  0.139387\n",
      "Step:  200 Loss:  0.149475\n",
      "Step:  300 Loss:  0.139487\n",
      "Step:  400 Loss:  0.146684\n",
      "Step:  500 Loss:  0.161074\n",
      "Step:  600 Loss:  0.141456\n",
      "\n",
      "Epoch:  17\n",
      "Step:  0 Loss:  0.147195\n",
      "Step:  100 Loss:  0.154531\n",
      "Step:  200 Loss:  0.152486\n",
      "Step:  300 Loss:  0.150659\n",
      "Step:  400 Loss:  0.138329\n",
      "Step:  500 Loss:  0.151568\n",
      "Step:  600 Loss:  0.161348\n",
      "\n",
      "Epoch:  18\n",
      "Step:  0 Loss:  0.123261\n",
      "Step:  100 Loss:  0.147445\n",
      "Step:  200 Loss:  0.154705\n",
      "Step:  300 Loss:  0.137174\n",
      "Step:  400 Loss:  0.155849\n",
      "Step:  500 Loss:  0.140655\n",
      "Step:  600 Loss:  0.140782\n",
      "\n",
      "Epoch:  19\n",
      "Step:  0 Loss:  0.164506\n",
      "Step:  100 Loss:  0.126024\n",
      "Step:  200 Loss:  0.138972\n",
      "Step:  300 Loss:  0.131656\n",
      "Step:  400 Loss:  0.15905\n",
      "Step:  500 Loss:  0.140367\n",
      "Step:  600 Loss:  0.157077\n"
     ]
    }
   ],
   "source": [
    "with tf.Session() as sess:\n",
    "    init = tf.global_variables_initializer()\n",
    "    sess.run(init)\n",
    "    \n",
    "    training_losses = []\n",
    "    \n",
    "    for epoch in range(n_epochs):\n",
    "        print(\"\")\n",
    "        print(\"Epoch: \", epoch)\n",
    "        \n",
    "        X_data, y_data = generateData()\n",
    "        \n",
    "        for batch in range(n_batches):\n",
    "        \n",
    "            start_idx = batch*truncated_backprop_steps\n",
    "            end_idx = start_idx+truncated_backprop_steps\n",
    "            \n",
    "            batch_x = X_data[:, start_idx:end_idx]\n",
    "            batch_y = y_data[:, start_idx:end_idx]\n",
    "\n",
    "            _total_loss, _optimizer = sess.run(\n",
    "                [total_loss, optimizer],\n",
    "                feed_dict={\n",
    "                    X_placeholder: batch_x,\n",
    "                    y_placeholder:batch_y})\n",
    "            \n",
    "            training_losses.append(_total_loss)\n",
    "            \n",
    "            if batch%100 == 0:\n",
    "                print(\"Step: \", batch, \"Loss: \", _total_loss)"
   ]
  },
  {
   "cell_type": "code",
   "execution_count": 8,
   "metadata": {
    "collapsed": false
   },
   "outputs": [
    {
     "data": {
      "image/png": "[encoded data removed]",
      "text/plain": [
       "<matplotlib.figure.Figure at 0x7f19f55b29b0>"
      ]
     },
     "metadata": {},
     "output_type": "display_data"
    }
   ],
   "source": [
    "plt.figure(figsize=(10,8));\n",
    "plt.plot(training_losses);\n",
    "plt.xlabel('Number of training iterations');\n",
    "plt.ylabel('Error');"
   ]
  },
  {
   "cell_type": "code",
   "execution_count": null,
   "metadata": {
    "collapsed": true
   },
   "outputs": [],
   "source": []
  }
 ],
 "metadata": {
  "kernelspec": {
   "display_name": "Python [conda root]",
   "language": "python",
   "name": "conda-root-py"
  },
  "language_info": {
   "codemirror_mode": {
    "name": "ipython",
    "version": 3
   },
   "file_extension": ".py",
   "mimetype": "text/x-python",
   "name": "python",
   "nbconvert_exporter": "python",
   "pygments_lexer": "ipython3",
   "version": "3.5.2"
  }
 },
 "nbformat": 4,
 "nbformat_minor": 2
}
