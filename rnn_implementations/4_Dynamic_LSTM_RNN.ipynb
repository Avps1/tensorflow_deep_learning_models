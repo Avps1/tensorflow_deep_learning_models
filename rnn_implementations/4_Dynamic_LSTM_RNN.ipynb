{
 "cells": [
  {
   "cell_type": "markdown",
   "metadata": {},
   "source": [
    "# Dynamic LSTM-RNN \n",
    "\n",
    "Tensorflow provides two RNN functions, namely *tf.nn.rnn* and *tf.nn.dynamic_rnn*. \n",
    "\n",
    "*tf.nn.rnn* creates an unrolled graph for a *fixed* RNN length. For example, when calling *tf.nn.rnn* with an input sequence of length 200, a static graph with 200 time steps is created. This has the disadvantage that we cannot feed longer or shorter sequences into the network than originally specified.\n",
    "\n",
    "*tf.nn.dynamic_rnn* solves this problem. It uses a tf.While loop to *dynamically* construct the graph when it's executed. This makes graph creation faster and allows for the input batches to vary in size.\n",
    "\n",
    "One difference between the two functions is the form of the input data. Whereas *tf.nn.rnn* takes a list of tensors as an input (namely a list of  truncated_backprop_steps tensors with shape (batch_size, input_size), *tf.nn.dynamic_rnn* takes as input the whole tensor of shape (batch_size, truncated_backprop_steps, input_size)."
   ]
  },
  {
   "cell_type": "code",
   "execution_count": 1,
   "metadata": {
    "collapsed": false
   },
   "outputs": [],
   "source": [
    "% matplotlib inline\n",
    "import tensorflow as tf\n",
    "import numpy as np\n",
    "import matplotlib.pyplot as plt\n",
    "import seaborn as sns"
   ]
  },
  {
   "cell_type": "code",
   "execution_count": 5,
   "metadata": {
    "collapsed": false
   },
   "outputs": [],
   "source": [
    "# Global configuration parameters\n",
    "n_epochs = 20\n",
    "total_series_length = 50000\n",
    "truncated_backprop_steps = 15\n",
    "state_size = 4 \n",
    "n_classes = 2\n",
    "echo_step = 3 # Number of steps the input is shifted to the right\n",
    "batch_size = 5\n",
    "eta = 0.001 # Learning rate\n",
    "n_batches = total_series_length// batch_size//truncated_backprop_steps\n",
    "\n",
    "np.random.seed(seed=123)"
   ]
  },
  {
   "cell_type": "markdown",
   "metadata": {},
   "source": [
    "## Input data\n",
    "\n",
    "Up to now, our complete training data had the size (5, 10000). Although we will keep these dimensions and also the dimension of the X_placeholder variabe, we will add another dimension to the input when feeding it into the RNN. Before, the batch size was (5,15), i.e. (batch_size, truncated_backprop_steps). Now, for the dynamic rnn the batch size will be (5,15,1)."
   ]
  },
  {
   "cell_type": "code",
   "execution_count": 6,
   "metadata": {
    "collapsed": true
   },
   "outputs": [],
   "source": [
    "def generateData():\n",
    "    \"\"\"\n",
    "    Generates training data. The input data is simply a vector of random\n",
    "    numbers with n_classes classes. The target output is the input shifted \n",
    "    by \"echo_steps\" steps to the right.\n",
    "    \n",
    "    Returns:\n",
    "        x: numpy array of shape (batch_size,-1) filled with random values\n",
    "        in the range (n_classes)\n",
    "        \n",
    "        y: numpy array of shape (batch_size, -1), x shifted \"echo_step\" to \n",
    "        the right\n",
    "    \"\"\"\n",
    "\n",
    "    x = np.array(np.random.choice(n_classes, total_series_length))\n",
    "    y = np.roll(x, echo_step)\n",
    "    y[0:echo_step] = 0\n",
    "\n",
    "    x = x.reshape((batch_size, -1))\n",
    "    y = y.reshape((batch_size, -1))\n",
    "\n",
    "    return(x, y)"
   ]
  },
  {
   "cell_type": "markdown",
   "metadata": {},
   "source": [
    "## Network architecture and forward pass\n",
    "\n",
    "As mentioned before, the shape of the input batches is now (batch_size, truncated_backprop_steps, input_size). Our X_placeholder variable can stay the same but we will insert a dimension of 1 when feeding it into tf.nn.dynamic_rnn. This is done using the function [tf.expand_dims](https://www.tensorflow.org/api_docs/python/tf/expand_dims)"
   ]
  },
  {
   "cell_type": "code",
   "execution_count": 7,
   "metadata": {
    "collapsed": true
   },
   "outputs": [],
   "source": [
    "X_placeholder = tf.placeholder(tf.float32, shape=[batch_size, truncated_backprop_steps])\n",
    "y_placeholder = tf.placeholder(tf.int32, shape=[batch_size, truncated_backprop_steps])"
   ]
  },
  {
   "cell_type": "code",
   "execution_count": 8,
   "metadata": {
    "collapsed": false
   },
   "outputs": [],
   "source": [
    "# Forward pass using LSTM cell\n",
    "# For each initialized LSTM cell we need to specify how many hidden\n",
    "# units the cell should have.\n",
    "\n",
    "n_hidden = 20\n",
    "lstm_cell = tf.contrib.rnn.LSTMCell(num_units=n_hidden)\n",
    "\n",
    "# Create a recurrent neural network specified by \"cell\", i.e. unroll the\n",
    "# network.\n",
    "# Returns a list of all previous RNN hidden states and the final state.\n",
    "# final_state is an LSTMStateTuple that contains both the final hidden \n",
    "# and the cell state.\n",
    "\n",
    "outputs, final_state = tf.nn.dynamic_rnn(lstm_cell, tf.expand_dims(X_placeholder,-1), dtype=tf.float32)\n",
    "final_cell_state, final_hidden_state = final_state"
   ]
  },
  {
   "cell_type": "code",
   "execution_count": 9,
   "metadata": {
    "collapsed": false
   },
   "outputs": [],
   "source": [
    "# Reshape the outputs and targets such that the logits can be computed \n",
    "# using a single matrix multiplication\n",
    "temp = tf.reshape(outputs, [-1, n_hidden])\n",
    "y_temp = tf.reshape(y_placeholder, [-1])\n",
    "\n",
    "# The output of the network is a one-hot encoded vector of predictions.\n",
    "# When also transforming the target labels into a one-hot encoding (as done\n",
    "# below), we have to change the loss computation into \n",
    "# \"tf.nn.softmax_cross_entropy_with_logits\"\n",
    "#y_temp_one_hot = tf.one_hot(y_temp, n_classes)"
   ]
  },
  {
   "cell_type": "code",
   "execution_count": 10,
   "metadata": {
    "collapsed": false
   },
   "outputs": [],
   "source": [
    "V = tf.Variable(tf.random_normal([n_hidden, n_classes]))\n",
    "c = tf.Variable(tf.random_normal([n_classes]))\n",
    "\n",
    "l = tf.matmul(temp,V)+c"
   ]
  },
  {
   "cell_type": "markdown",
   "metadata": {},
   "source": [
    "## Network output and loss function\n",
    "\n",
    "The predictions of the RNN and the loss are computed in the same way as before."
   ]
  },
  {
   "cell_type": "code",
   "execution_count": 11,
   "metadata": {
    "collapsed": false
   },
   "outputs": [],
   "source": [
    "# loss = tf.reduce_mean(tf.nn.softmax_cross_entropy_with_logits(labels=y_temp_one_hot,\n",
    "#                                                              logits=l))\n",
    "\n",
    "loss = tf.reduce_mean(tf.nn.sparse_softmax_cross_entropy_with_logits(labels=y_temp,\n",
    "                                                             logits=l))\n",
    "optimizer = tf.train.AdamOptimizer(learning_rate=eta).minimize(loss)"
   ]
  },
  {
   "cell_type": "markdown",
   "metadata": {},
   "source": [
    "## Training"
   ]
  },
  {
   "cell_type": "code",
   "execution_count": 12,
   "metadata": {
    "collapsed": false
   },
   "outputs": [
    {
     "name": "stdout",
     "output_type": "stream",
     "text": [
      "\n",
      "Epoch:  0\n",
      "Step:  0 Loss:  0.746176\n",
      "Step:  100 Loss:  0.637951\n",
      "Step:  200 Loss:  0.542736\n",
      "Step:  300 Loss:  0.450134\n",
      "Step:  400 Loss:  0.440122\n",
      "Step:  500 Loss:  0.302271\n",
      "Step:  600 Loss:  0.401203\n",
      "\n",
      "Epoch:  1\n",
      "Step:  0 Loss:  0.188495\n",
      "Step:  100 Loss:  0.294299\n",
      "Step:  200 Loss:  0.207827\n",
      "Step:  300 Loss:  0.178691\n",
      "Step:  400 Loss:  0.175547\n",
      "Step:  500 Loss:  0.136141\n",
      "Step:  600 Loss:  0.1583\n",
      "\n",
      "Epoch:  2\n",
      "Step:  0 Loss:  0.15992\n",
      "Step:  100 Loss:  0.131949\n",
      "Step:  200 Loss:  0.140639\n",
      "Step:  300 Loss:  0.147891\n",
      "Step:  400 Loss:  0.138002\n",
      "Step:  500 Loss:  0.14624\n",
      "Step:  600 Loss:  0.142018\n",
      "\n",
      "Epoch:  3\n",
      "Step:  0 Loss:  0.139608\n",
      "Step:  100 Loss:  0.141862\n",
      "Step:  200 Loss:  0.133289\n",
      "Step:  300 Loss:  0.141761\n",
      "Step:  400 Loss:  0.145895\n",
      "Step:  500 Loss:  0.137981\n",
      "Step:  600 Loss:  0.139527\n",
      "\n",
      "Epoch:  4\n",
      "Step:  0 Loss:  0.132011\n",
      "Step:  100 Loss:  0.139273\n",
      "Step:  200 Loss:  0.140387\n",
      "Step:  300 Loss:  0.151473\n",
      "Step:  400 Loss:  0.148588\n",
      "Step:  500 Loss:  0.139836\n",
      "Step:  600 Loss:  0.139832\n",
      "\n",
      "Epoch:  5\n",
      "Step:  0 Loss:  0.146463\n",
      "Step:  100 Loss:  0.139148\n",
      "Step:  200 Loss:  0.134062\n",
      "Step:  300 Loss:  0.137051\n",
      "Step:  400 Loss:  0.141809\n",
      "Step:  500 Loss:  0.143808\n",
      "Step:  600 Loss:  0.148392\n",
      "\n",
      "Epoch:  6\n",
      "Step:  0 Loss:  0.139329\n",
      "Step:  100 Loss:  0.142107\n",
      "Step:  200 Loss:  0.140838\n",
      "Step:  300 Loss:  0.137222\n",
      "Step:  400 Loss:  0.141807\n",
      "Step:  500 Loss:  0.138695\n",
      "Step:  600 Loss:  0.135643\n",
      "\n",
      "Epoch:  7\n",
      "Step:  0 Loss:  0.136551\n",
      "Step:  100 Loss:  0.140828\n",
      "Step:  200 Loss:  0.125699\n",
      "Step:  300 Loss:  0.137753\n",
      "Step:  400 Loss:  0.141652\n",
      "Step:  500 Loss:  0.137278\n",
      "Step:  600 Loss:  0.142049\n",
      "\n",
      "Epoch:  8\n",
      "Step:  0 Loss:  0.142819\n",
      "Step:  100 Loss:  0.146157\n",
      "Step:  200 Loss:  0.13421\n",
      "Step:  300 Loss:  0.142051\n",
      "Step:  400 Loss:  0.139488\n",
      "Step:  500 Loss:  0.142311\n",
      "Step:  600 Loss:  0.152572\n",
      "\n",
      "Epoch:  9\n",
      "Step:  0 Loss:  0.140507\n",
      "Step:  100 Loss:  0.143961\n",
      "Step:  200 Loss:  0.140149\n",
      "Step:  300 Loss:  0.141577\n",
      "Step:  400 Loss:  0.138095\n",
      "Step:  500 Loss:  0.136887\n",
      "Step:  600 Loss:  0.140362\n",
      "\n",
      "Epoch:  10\n",
      "Step:  0 Loss:  0.139272\n",
      "Step:  100 Loss:  0.138207\n",
      "Step:  200 Loss:  0.134664\n",
      "Step:  300 Loss:  0.140317\n",
      "Step:  400 Loss:  0.143653\n",
      "Step:  500 Loss:  0.14475\n",
      "Step:  600 Loss:  0.138604\n",
      "\n",
      "Epoch:  11\n",
      "Step:  0 Loss:  0.142211\n",
      "Step:  100 Loss:  0.144752\n",
      "Step:  200 Loss:  0.143481\n",
      "Step:  300 Loss:  0.137569\n",
      "Step:  400 Loss:  0.138766\n",
      "Step:  500 Loss:  0.144558\n",
      "Step:  600 Loss:  0.143811\n",
      "\n",
      "Epoch:  12\n",
      "Step:  0 Loss:  0.13702\n",
      "Step:  100 Loss:  0.133635\n",
      "Step:  200 Loss:  0.141329\n",
      "Step:  300 Loss:  0.138666\n",
      "Step:  400 Loss:  0.142905\n",
      "Step:  500 Loss:  0.14675\n",
      "Step:  600 Loss:  0.138818\n",
      "\n",
      "Epoch:  13\n",
      "Step:  0 Loss:  0.137906\n",
      "Step:  100 Loss:  0.150423\n",
      "Step:  200 Loss:  0.123514\n",
      "Step:  300 Loss:  0.141909\n",
      "Step:  400 Loss:  0.14189\n",
      "Step:  500 Loss:  0.139365\n",
      "Step:  600 Loss:  0.133751\n",
      "\n",
      "Epoch:  14\n",
      "Step:  0 Loss:  0.137121\n",
      "Step:  100 Loss:  0.14246\n",
      "Step:  200 Loss:  0.14258\n",
      "Step:  300 Loss:  0.139491\n",
      "Step:  400 Loss:  0.137625\n",
      "Step:  500 Loss:  0.142477\n",
      "Step:  600 Loss:  0.144531\n",
      "\n",
      "Epoch:  15\n",
      "Step:  0 Loss:  0.139159\n",
      "Step:  100 Loss:  0.137209\n",
      "Step:  200 Loss:  0.138774\n",
      "Step:  300 Loss:  0.141963\n",
      "Step:  400 Loss:  0.143619\n",
      "Step:  500 Loss:  0.139213\n",
      "Step:  600 Loss:  0.139205\n",
      "\n",
      "Epoch:  16\n",
      "Step:  0 Loss:  0.139952\n",
      "Step:  100 Loss:  0.137326\n",
      "Step:  200 Loss:  0.140112\n",
      "Step:  300 Loss:  0.13597\n",
      "Step:  400 Loss:  0.138873\n",
      "Step:  500 Loss:  0.140527\n",
      "Step:  600 Loss:  0.139104\n",
      "\n",
      "Epoch:  17\n",
      "Step:  0 Loss:  0.142537\n",
      "Step:  100 Loss:  0.137106\n",
      "Step:  200 Loss:  0.138432\n",
      "Step:  300 Loss:  0.144779\n",
      "Step:  400 Loss:  0.139703\n",
      "Step:  500 Loss:  0.138231\n",
      "Step:  600 Loss:  0.149683\n",
      "\n",
      "Epoch:  18\n",
      "Step:  0 Loss:  0.15531\n",
      "Step:  100 Loss:  0.140046\n",
      "Step:  200 Loss:  0.138644\n",
      "Step:  300 Loss:  0.133892\n",
      "Step:  400 Loss:  0.13537\n",
      "Step:  500 Loss:  0.148558\n",
      "Step:  600 Loss:  0.14083\n",
      "\n",
      "Epoch:  19\n",
      "Step:  0 Loss:  0.1402\n",
      "Step:  100 Loss:  0.135715\n",
      "Step:  200 Loss:  0.136196\n",
      "Step:  300 Loss:  0.133674\n",
      "Step:  400 Loss:  0.138606\n",
      "Step:  500 Loss:  0.143231\n",
      "Step:  600 Loss:  0.133155\n"
     ]
    }
   ],
   "source": [
    "with tf.Session() as sess:\n",
    "    init = tf.global_variables_initializer()\n",
    "    sess.run(init)\n",
    "    \n",
    "    training_losses = []\n",
    "    \n",
    "    for epoch in range(n_epochs):\n",
    "        print(\"\")\n",
    "        print(\"Epoch: \", epoch)\n",
    "        \n",
    "        X_data, y_data = generateData()\n",
    "        \n",
    "        for batch in range(n_batches):\n",
    "        \n",
    "            start_idx = batch*truncated_backprop_steps\n",
    "            end_idx = start_idx+truncated_backprop_steps\n",
    "            \n",
    "            batch_x = X_data[:, start_idx:end_idx]\n",
    "            batch_y = y_data[:, start_idx:end_idx]\n",
    "\n",
    "            _total_loss, _optimizer = sess.run(\n",
    "                [loss, optimizer],\n",
    "                feed_dict={\n",
    "                    X_placeholder: batch_x,\n",
    "                    y_placeholder:batch_y})\n",
    "            \n",
    "            training_losses.append(_total_loss)\n",
    "            \n",
    "            if batch%100 == 0:\n",
    "                print(\"Step: \", batch, \"Loss: \", _total_loss)"
   ]
  },
  {
   "cell_type": "code",
   "execution_count": 13,
   "metadata": {
    "collapsed": false
   },
   "outputs": [
    {
     "data": {
      "image/png": "[encoded data removed]",
      "text/plain": [
       "<matplotlib.figure.Figure at 0x7f49bf2c12b0>"
      ]
     },
     "metadata": {},
     "output_type": "display_data"
    }
   ],
   "source": [
    "plt.figure(figsize=(10,8));\n",
    "plt.plot(training_losses);\n",
    "plt.xlabel('Number of training iterations');\n",
    "plt.ylabel('Error');"
   ]
  }
 ],
 "metadata": {
  "kernelspec": {
   "display_name": "Python [conda root]",
   "language": "python",
   "name": "conda-root-py"
  },
  "language_info": {
   "codemirror_mode": {
    "name": "ipython",
    "version": 3
   },
   "file_extension": ".py",
   "mimetype": "text/x-python",
   "name": "python",
   "nbconvert_exporter": "python",
   "pygments_lexer": "ipython3",
   "version": "3.5.2"
  }
 },
 "nbformat": 4,
 "nbformat_minor": 2
}
