{
 "cells": [
  {
   "cell_type": "code",
   "execution_count": 1,
   "metadata": {
    "collapsed": true
   },
   "outputs": [],
   "source": [
    "% matplotlib inline\n",
    "import tensorflow as tf\n",
    "import matplotlib.pyplot as plt\n",
    "import numpy as np\n",
    "\n",
    "# Set a random seed for reproduction\n",
    "np.random.seed(seed=0)\n",
    "tf.set_random_seed(seed=0)"
   ]
  },
  {
   "cell_type": "code",
   "execution_count": 2,
   "metadata": {
    "collapsed": false
   },
   "outputs": [
    {
     "name": "stdout",
     "output_type": "stream",
     "text": [
      "Extracting MNIST_data/train-images-idx3-ubyte.gz\n",
      "Extracting MNIST_data/train-labels-idx1-ubyte.gz\n",
      "Extracting MNIST_data/t10k-images-idx3-ubyte.gz\n",
      "Extracting MNIST_data/t10k-labels-idx1-ubyte.gz\n"
     ]
    }
   ],
   "source": [
    "# Import the MNIST Data\n",
    "from tensorflow.examples.tutorials.mnist import input_data\n",
    "mnist = input_data.read_data_sets('MNIST_data', one_hot=True)\n",
    "n_samples = mnist.train.num_examples"
   ]
  },
  {
   "cell_type": "markdown",
   "metadata": {},
   "source": [
    "# Xavier initialization\n",
    "\n",
    "Xavier initialization is a technique for initalizing weights in a neural network. It ensures that the initial weight values of the network are neither too high nor too low, such that the signal propagated through the network remains within a reasonable range of values.\n",
    "Xavier initalization is based on initializing the weights by drawing values from a distribution with zero mean and a specific variance, that depends on the number of incoming and outgoing connections as well as on the activation function used.\n",
    "Details about the technique can be found in the paper [\"Understanding the difficulty of training deep feedforward neural networks\"](http://proceedings.mlr.press/v9/glorot10a/glorot10a.pdf)\n",
    "\n",
    "A post on how to perform Xavier initalization in TensorFlow can be found [here](https://stackoverflow.com/questions/33640581/how-to-do-xavier-initialization-on-tensorflow)"
   ]
  },
  {
   "cell_type": "code",
   "execution_count": 3,
   "metadata": {
    "collapsed": false
   },
   "outputs": [],
   "source": [
    "def xavier_init(fan_in, fan_out, constant=1):\n",
    "    \"\"\"\n",
    "    Performs a Xavier initialization\n",
    "    \n",
    "    Args:\n",
    "        fan_in: number of incoming connections\n",
    "        fan_out: number of outgoing connections\n",
    "\n",
    "    Returns:\n",
    "         Tensor of shape (fan_in, fan_out) filled with random uniform values \n",
    "         in the range [minval, maxval).\n",
    "    \"\"\"\n",
    "    low = -constant*np.sqrt(6.0/(fan_in+fan_out))\n",
    "    high = constant*np.sqrt(6.0/(fan_in+fan_out))\n",
    "    return tf.Variable(tf.random_uniform((fan_in, fan_out), minval=low, maxval=high, dtype=tf.float32))"
   ]
  },
  {
   "cell_type": "markdown",
   "metadata": {},
   "source": [
    "# Specification of the variational autoencoder (VAE) model\n",
    "\n",
    "This implementation follows the model introduced by Kingma and Welling. Details can be found in the corresponding [paper](https://arxiv.org/pdf/1312.6114.pdf). The paper is especially helpful for understanding the computations happening in the encoder and decoder network (see appendix C in the paper) as well as the two parts of the loss function and how they are computed (appendix B and C).\n",
    "\n",
    "This implementation is based on an existing [implementation](https://jmetzen.github.io/2015-11-27/vae.html)."
   ]
  },
  {
   "cell_type": "code",
   "execution_count": 4,
   "metadata": {
    "collapsed": false
   },
   "outputs": [],
   "source": [
    "class VAE(object):\n",
    "    \"\"\"\n",
    "    \n",
    "    \"\"\"\n",
    "    \n",
    "    def __init__(self, net_architecture, activation_fct=tf.nn.softplus, learning_rate=.001, batch_size=100):\n",
    "        \n",
    "        # Network parameters\n",
    "        self.net_architecture = net_architecture\n",
    "        self.activation_fct = activation_fct\n",
    "        self.learning_rate = learning_rate\n",
    "        self.batch_size = batch_size\n",
    "        \n",
    "        # Network input\n",
    "        self.x = tf.placeholder(tf.float32, shape=[None, net_architecture[\"n_input\"]])\n",
    "        \n",
    "        # Create the network, inluding both the encoder and decoder\n",
    "        self._create_net()\n",
    "        \n",
    "        # Create the \n",
    "        self._loss_optimizer()\n",
    "        \n",
    "        # Initialize all variables\n",
    "        init = tf.global_variables_initializer()\n",
    "        \n",
    "        self.sess = tf.InteractiveSession()\n",
    "        self.sess.run(init)\n",
    "        \n",
    "    def _create_net(self):\n",
    "        \"\"\"\n",
    "        Creates the VAE network by initializing the weights and setting up the \n",
    "        encoder and decoder networks.\n",
    "        \n",
    "        \"\"\"\n",
    "        # Initialize all weights and biases of the VAE\n",
    "        net_weights = self._init_weights(**self.net_architecture)\n",
    "\n",
    "        # Use the encoder network to compute the mean and log(variance**2) of a Gaussian distribution \n",
    "        # (the encoder network is usually taken to be a Gaussian distribution)\n",
    "        self.z_mean, self.z_log_sigma_sq = self._encoder_network(net_weights['weights_encoder'], net_weights['biases_encoder'])\n",
    "\n",
    "        # As a next step, we want to sample values of z to be input into the\n",
    "        # decoder network. For this, and to be able to perform backpropagation we employ \n",
    "        # the reparametrization trick:\n",
    "        # Since our posterior is normally distributed, we can approximate it with another\n",
    "        # with samples (called eps below) from another posterior. We can then\n",
    "        # obtain samples of z by computing: z = mu + sigma*epsilon\n",
    "        n_z = net_architecture[\"n_z\"] #dimension of latent space\n",
    "        eps = tf.random_normal((self.batch_size, n_z))\n",
    "        \n",
    "        # Sampled vector of latent variables z (z = mu + sigma*eps)\n",
    "        # As our sigmas are log(sigmas**2) we have to apply the exponential function\n",
    "        # to compute the \"plain\" variance\n",
    "        self.z = tf.add(self.z_mean, \n",
    "                       tf.multiply(tf.sqrt(tf.exp(self.z_log_sigma_sq)),eps))\n",
    "        \n",
    "        \n",
    "        # Use the decoder network to reconstruct the input\n",
    "        self.x_reconstr = self._decoder_network(net_weights[\"weights_decoder\"], net_weights[\"biases_decoder\"])\n",
    "        \n",
    "        \n",
    "    def _init_weights(self, n_input, n_z, h1_encoder, h2_encoder, h1_decoder, h2_decoder,):\n",
    "        \"\"\"\n",
    "        Initializes all network weights using the Xavier initialization.\n",
    "        The network weights are stored in dictionaries.\n",
    "        \n",
    "        Args:\n",
    "            param n_input: dimensionality of input data\n",
    "            param n_z: dimensionality of latent space\n",
    "        \n",
    "        Returns:\n",
    "            all_weights: A dictionary of dictionaries, including all the network weights\n",
    "        \"\"\"\n",
    "        \n",
    "        all_weights = {}\n",
    "        \n",
    "        all_weights['weights_encoder'] = {\n",
    "            'h1': xavier_init(n_input, h1_encoder),\n",
    "            'h2': xavier_init(h1_encoder, h2_encoder),\n",
    "            'means': xavier_init(h2_encoder, n_z),\n",
    "            'sigmas': xavier_init(h2_encoder, n_z)\n",
    "        }\n",
    "        \n",
    "        all_weights['biases_encoder'] = {\n",
    "            'b1': tf.Variable(tf.zeros(shape=[h1_encoder], dtype=tf.float32)),\n",
    "            'b2': tf.Variable(tf.zeros(shape=[h2_encoder], dtype=tf.float32)),\n",
    "            'means': tf.Variable(tf.zeros([n_z], dtype=tf.float32)),\n",
    "            'sigmas': tf.Variable(tf.zeros([n_z], dtype=tf.float32))\n",
    "        }\n",
    "        \n",
    "        all_weights['weights_decoder'] = {\n",
    "            'h1': xavier_init(n_z, h1_decoder),\n",
    "            'h2': xavier_init(h1_decoder, h2_decoder),\n",
    "            'means': xavier_init(h2_decoder, n_input),\n",
    "            'sigmas': xavier_init(h2_decoder, n_input)\n",
    "        }\n",
    "        \n",
    "        all_weights['biases_decoder'] = {\n",
    "            'b1': tf.Variable(tf.zeros(shape=[h1_decoder], dtype=tf.float32)),\n",
    "            'b2': tf.Variable(tf.zeros(shape=[h2_decoder], dtype=tf.float32)),\n",
    "            'means': tf.Variable(tf.zeros([n_input], dtype=tf.float32)),\n",
    "            'sigmas': tf.Variable(tf.zeros([n_input], dtype=tf.float32))  \n",
    "        }\n",
    "        \n",
    "        return all_weights\n",
    "    \n",
    "    \n",
    "    def _encoder_network(self, weights, biases):\n",
    "        \"\"\"\n",
    "        Computes the output of the encoder network for a given input vector\n",
    "        \n",
    "        Args:\n",
    "            weights: Dictionary containing the weights of all layers in the net\n",
    "            biases: Dictionary containing the biases of all layers in the net\n",
    "        \n",
    "        Returns:\n",
    "            means: A vector of mean values\n",
    "            log_sigmas_sq: A vector of variances, more precisely a vector of log(sigma**2)\n",
    "        \n",
    "        \n",
    "        Further explanations:\n",
    "        The encoder network is used to approximate the true posterior p(z|x)\n",
    "        using the variational distribution q_phi(z|x). Usually, q_phi(z|x) is\n",
    "        taken to be a Gaussian distribution with a diagonal covariance matrix\n",
    "        whose mean and variance vectors are parametrized by a neural network\n",
    "        with input x.\n",
    "        So our encoder network takes x as an input and produces a vector of \n",
    "        means and a vector of variances (or more precise a vector of log squared variances) \n",
    "        of a Gaussian distrbution. From this we can sample values of z, i.e. z ~ q_phi(z|x)\n",
    "        \"\"\"\n",
    "        \n",
    "        # The output of each layer is given by applying the activation function\n",
    "        # to the linear combination of all inputs and weights\n",
    "        layer1 = self.activation_fct(tf.add(tf.matmul(self.x, weights['h1']), biases['b1']))\n",
    "        layer2 = self.activation_fct(tf.add(tf.matmul(layer1, weights['h2']), biases['b2']))\n",
    "        \n",
    "        # The vector of means and variances is computed in a similar\n",
    "        # fashion but without applying an activation function\n",
    "        means = tf.add(tf.matmul(layer2, weights['means']), biases['means'])\n",
    "        log_sigmas_sq = tf.add(tf.matmul(layer2, weights['sigmas']), biases['sigmas'])\n",
    "\n",
    "        # As mentioned above, the network outputs a vector of means and a\n",
    "        # vector of log squared variances.\n",
    "        return(means, log_sigmas_sq)\n",
    "        \n",
    "  \n",
    "    def _decoder_network(self, weights, biases):\n",
    "        \"\"\"\n",
    "        Computes the output of the decoder network for a given latent vector\n",
    "        \n",
    "        Args:\n",
    "            weights: Dictionary containing the weights of all layers in the net\n",
    "            biases: Dictionary containing the weights of all layers in the net\n",
    "        \n",
    "        Return:\n",
    "            x_reconstr: Reconstruction of the original network input\n",
    "        \n",
    "        Further explanations:\n",
    "            The decoder network takes a latent variable z as an input and reproduces\n",
    "            the input x. In our case, it maps z onto a Bernoulli distrbution.\n",
    "        \"\"\"\n",
    "    \n",
    "        # Again, the output of each layer is given by applying the activation \n",
    "        # function to a linear combination of the input and weights\n",
    "        layer1 = self.activation_fct(tf.add(tf.matmul(self.z, weights['h1']), biases['b1']))\n",
    "        layer2 = self.activation_fct(tf.add(tf.matmul(layer1, weights['h2']), biases['b2']))\n",
    "        \n",
    "        # Was berechne ich hier? Einen mean? eine rekonstruktion vom input?\n",
    "        x_reconstr = tf.nn.sigmoid(tf.add(tf.matmul(layer1, weights['means']), biases['means']))\n",
    "        \n",
    "        return x_reconstr\n",
    "        \n",
    "        \n",
    "    def _loss_optimizer(self):\n",
    "        \"\"\"\n",
    "        Computes the loss of the network and minimizes it using the AdamOptimizer\n",
    "\n",
    "        Args:\n",
    "            \\\n",
    "        Returns:\n",
    "            \\\n",
    "        \n",
    "        Further explanations:\n",
    "            The loss function has two terms\n",
    "            1) The reconstruction loss: -log(p(x|z)) which rewards a good reconstruction\n",
    "\n",
    "            2) The latent loss: Kullback-Leibler divergence between q_phi(z|x) and the prior\n",
    "            p(z) (which is given by a standard normal distribution).\n",
    "            This loss acts as a regularizer because it penalizes q_phi(z|x) for\n",
    "            deviating from a standard normal distribution.\n",
    "        \"\"\"\n",
    "        \n",
    "        # Latent loss\n",
    "        # How do I know that I have reduce_sum(...,1)? Why not reduce_sum(...,0)?\n",
    "        latent_loss = -0.5*tf.reduce_sum(1 + self.z_log_sigma_sq\n",
    "                                         - tf.square(self.z_mean) \n",
    "                                         - tf.exp(self.z_log_sigma_sq),1)\n",
    "        \n",
    "        \n",
    "        # Reconstruction loss\n",
    "        # We add 1e-10 to avoid evaluation of log(0.0)        \n",
    "        reconstr_loss = -tf.reduce_sum(self.x * tf.log(1e-10 + self.x_reconstr)+ \n",
    "                                       (1-self.x)*tf.log(1e-10 + 1-self.x_reconstr),1)\n",
    "        \n",
    "        \n",
    "        # Why is the loss computed as an average?\n",
    "        self.cost = tf.reduce_mean(latent_loss + reconstr_loss)\n",
    "        \n",
    "        # We optimize the VAE by minimizing this loss, using the Adam algorithm\n",
    "        self.optimizer = tf.train.AdamOptimizer(self.learning_rate).minimize(self.cost)\n",
    "        \n",
    "        \n",
    "    def batch_fit(self, mini_batch):\n",
    "        \"\"\"\n",
    "        Trains the VAE on the given mini-batch of data\n",
    "        \n",
    "        Args:\n",
    "            mini_batch: numpy array\n",
    "        \n",
    "        Returns:\n",
    "            cost: cost of the VAE on the mini-batch\n",
    "        \"\"\"\n",
    "        \n",
    "        optimizer, cost = self.sess.run([self.optimizer, self.cost], {self.x: mini_batch})\n",
    "        \n",
    "        return cost\n",
    "        \n",
    "    def generate_data(self):\n",
    "        \"\"\"\n",
    "        Generates new data by sampling from the latent space (i.e. sampling values)\n",
    "        of z and running the decoder\n",
    "        \n",
    "        Returns:\n",
    "            New data point\n",
    "        \"\"\"\n",
    "        z = np.random.normal(size=(self.batch_size, self.net_architecture[\"n_z\"]))\n",
    "        print(\"shape z: \", z.shape)\n",
    "        \n",
    "        new_data = self.sess.run(self.x_reconstr, {self.z: z})\n",
    "        \n",
    "        return new_data\n",
    "    \n",
    "#         n_z = self.net_architecture[\"n\"]\n",
    "#         epsilon = tf.random_normal((self.batch_size, n_z))\n",
    "#         z = tf.add(self.z_mean, \n",
    "#                        tf.multiply(tf.sqrt(tf.exp(self.z_log_sigma_sq)),epsilon))\n",
    "       \n",
    "#         new_data = self.sess.run(self.x_reconstr, {self.z: z})\n",
    "        \n",
    "#         return new_data\n",
    "    \n",
    "    \n",
    "    def reconstruct(self, data):\n",
    "        \"\"\"\n",
    "        Reconstructs the given data\n",
    "        \n",
    "        Params:\n",
    "            data:\n",
    "            \n",
    "        Return:\n",
    "            Reconstruction of the input data\n",
    "        \"\"\"\n",
    "        \n",
    "        \n",
    "        reconstructed_data = self.sess.run(self.x_reconstr, {self.x: data})\n",
    "        return reconstructed_data\n",
    "        "
   ]
  },
  {
   "cell_type": "code",
   "execution_count": 6,
   "metadata": {
    "collapsed": true
   },
   "outputs": [],
   "source": [
    "def train(net_architecture, eta=0.001, batch_size=100, epochs=10, display_step=5):\n",
    "    \n",
    "    # Initialize a VAE model\n",
    "    vae = VAE(net_architecture, learning_rate=eta, batch_size=batch_size)\n",
    "    \n",
    "    # Train the VAE\n",
    "    for epoch in range(epochs):\n",
    "        \n",
    "        total_cost = 0.0\n",
    "        number_batches = int(n_samples/batch_size)\n",
    "        \n",
    "        # Loop over all batches, train the vae on each batch individually\n",
    "        for i in range(number_batches):\n",
    "                batch_x, _ = mnist.train.next_batch(batch_size=batch_size)\n",
    "                cost = vae.batch_fit(batch_x)\n",
    "                \n",
    "                total_cost += cost\n",
    "        \n",
    "        total_cost = total_cost/number_batches\n",
    "        \n",
    "        if epoch%display_step==0:\n",
    "            print(\"Epoch: \", epoch+1)\n",
    "            print(\"Cost: \", total_cost)\n",
    "            print(\"\")\n",
    "\n",
    "            \n",
    "    # Return the trained vae        \n",
    "    return vae\n",
    "                "
   ]
  },
  {
   "cell_type": "code",
   "execution_count": null,
   "metadata": {
    "collapsed": false
   },
   "outputs": [],
   "source": []
  },
  {
   "cell_type": "markdown",
   "metadata": {},
   "source": [
    "# Training a VAE on the MNIST dataset"
   ]
  },
  {
   "cell_type": "code",
   "execution_count": 8,
   "metadata": {
    "collapsed": false
   },
   "outputs": [
    {
     "name": "stdout",
     "output_type": "stream",
     "text": [
      "Epoch:  1\n",
      "Cost:  166.719471186\n",
      "\n",
      "Epoch:  6\n",
      "Cost:  110.214370145\n",
      "\n",
      "Epoch:  11\n",
      "Cost:  106.219965335\n",
      "\n",
      "Epoch:  16\n",
      "Cost:  104.650737235\n",
      "\n",
      "Epoch:  21\n",
      "Cost:  103.789617476\n",
      "\n",
      "Epoch:  26\n",
      "Cost:  103.135051464\n",
      "\n",
      "Epoch:  31\n",
      "Cost:  102.559676888\n",
      "\n",
      "Epoch:  36\n",
      "Cost:  102.143576064\n",
      "\n",
      "Epoch:  41\n",
      "Cost:  101.753997886\n",
      "\n",
      "Epoch:  46\n",
      "Cost:  101.385221336\n",
      "\n",
      "Epoch:  51\n",
      "Cost:  100.96268158\n",
      "\n",
      "Epoch:  56\n",
      "Cost:  100.620806968\n",
      "\n",
      "Epoch:  61\n",
      "Cost:  100.30339576\n",
      "\n",
      "Epoch:  66\n",
      "Cost:  100.033267101\n",
      "\n",
      "Epoch:  71\n",
      "Cost:  99.7860524403\n",
      "\n",
      "Epoch:  76\n",
      "Cost:  99.5599528365\n",
      "\n",
      "Epoch:  81\n",
      "Cost:  99.368165408\n",
      "\n",
      "Epoch:  86\n",
      "Cost:  99.1891813382\n",
      "\n",
      "Epoch:  91\n",
      "Cost:  99.0309269437\n",
      "\n",
      "Epoch:  96\n",
      "Cost:  98.8564787709\n",
      "\n"
     ]
    }
   ],
   "source": [
    "net_architecture = dict(\n",
    "    \n",
    "    h1_encoder = 500,\n",
    "    h2_encoder = 500,\n",
    "    \n",
    "    h1_decoder = 500,\n",
    "    h2_decoder = 500,\n",
    "    \n",
    "    n_input = 784,\n",
    "    n_z = 20    \n",
    ")\n",
    "\n",
    "vae = train(net_architecture, epochs=100)"
   ]
  },
  {
   "cell_type": "markdown",
   "metadata": {
    "collapsed": true
   },
   "source": [
    "# Reconstructing data"
   ]
  },
  {
   "cell_type": "code",
   "execution_count": 13,
   "metadata": {
    "collapsed": false
   },
   "outputs": [
    {
     "name": "stdout",
     "output_type": "stream",
     "text": [
      "<class 'numpy.ndarray'>\n"
     ]
    }
   ],
   "source": [
    "x_sample, _ = mnist.test.next_batch(100)\n",
    "print(type(x_sample))\n",
    "x_reconstruct = vae.reconstruct(x_sample)"
   ]
  },
  {
   "cell_type": "code",
   "execution_count": null,
   "metadata": {
    "collapsed": false
   },
   "outputs": [],
   "source": [
    "fig = plt.figure(figsize=(8,12))\n",
    "for i in range(5):\n",
    "    ax1 = fig.add_subplot(5,2,2*i+1)\n",
    "    ax1.set_title(\"Test input\")\n",
    "    ax1.imshow(x_sample[i].reshape(28,28), cmap='gray')\n",
    "    \n",
    "    ax2 = fig.add_subplot(5,2,2*i+2)\n",
    "    ax2.set_title(\"Reconstruction\")\n",
    "    ax2.imshow(x_reconstruct[i].reshape(28,28), cmap='gray')\n",
    "    \n",
    "plt.tight_layout() "
   ]
  },
  {
   "cell_type": "markdown",
   "metadata": {
    "collapsed": true
   },
   "source": [
    "# Generating new data"
   ]
  },
  {
   "cell_type": "code",
   "execution_count": 11,
   "metadata": {
    "collapsed": false
   },
   "outputs": [
    {
     "name": "stdout",
     "output_type": "stream",
     "text": [
      "shape z:  (100, 20)\n"
     ]
    },
    {
     "data": {
      "image/png": "[encoded data removed]",
      "text/plain": [
       "<matplotlib.figure.Figure at 0x7f75372e0860>"
      ]
     },
     "metadata": {},
     "output_type": "display_data"
    }
   ],
   "source": [
    "new_data = vae.generate_data()\n",
    "\n",
    "fig = plt.figure(figsize=(8,12))\n",
    "\n",
    "for i in range(10):\n",
    "    ax = fig.add_subplot(5,2,i+1)\n",
    "    ax.imshow(new_data[i].reshape(28,28), cmap='gray')\n",
    "    ax.set_title(\"Generated digit\")\n",
    "\n",
    "plt.tight_layout()"
   ]
  },
  {
   "cell_type": "code",
   "execution_count": null,
   "metadata": {
    "collapsed": false
   },
   "outputs": [],
   "source": [
    "vae.net_architecture[\"n_z\"]"
   ]
  },
  {
   "cell_type": "code",
   "execution_count": null,
   "metadata": {
    "collapsed": true
   },
   "outputs": [],
   "source": []
  }
 ],
 "metadata": {
  "kernelspec": {
   "display_name": "Python [conda root]",
   "language": "python",
   "name": "conda-root-py"
  },
  "language_info": {
   "codemirror_mode": {
    "name": "ipython",
    "version": 3
   },
   "file_extension": ".py",
   "mimetype": "text/x-python",
   "name": "python",
   "nbconvert_exporter": "python",
   "pygments_lexer": "ipython3",
   "version": "3.5.2"
  }
 },
 "nbformat": 4,
 "nbformat_minor": 2
}
